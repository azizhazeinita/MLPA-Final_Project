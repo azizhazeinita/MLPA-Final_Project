{
 "cells": [
  {
   "cell_type": "markdown",
   "id": "af80253e",
   "metadata": {},
   "source": [
    "# Exploratory Data Analysis (EDA) - Final Project"
   ]
  },
  {
   "cell_type": "markdown",
   "id": "3100a1ee",
   "metadata": {},
   "source": [
    "## A. February Dataset"
   ]
  },
  {
   "cell_type": "code",
   "execution_count": 30,
   "id": "f67cc405",
   "metadata": {},
   "outputs": [],
   "source": [
    "import pandas as pd\n",
    "import os"
   ]
  },
  {
   "cell_type": "code",
   "execution_count": 31,
   "id": "5dd564a0",
   "metadata": {},
   "outputs": [
    {
     "data": {
      "text/plain": [
       "'/Users/azizhazeinita/MScA/Spring/ML & Pred Analytics/Final Project'"
      ]
     },
     "execution_count": 31,
     "metadata": {},
     "output_type": "execute_result"
    }
   ],
   "source": [
    "os.getcwd()"
   ]
  },
  {
   "cell_type": "code",
   "execution_count": 67,
   "id": "4e430390",
   "metadata": {},
   "outputs": [],
   "source": [
    "feb27 = pd.read_csv('/Users/azizhazeinita/MScA/Spring/ML & Pred Analytics/Final Project/UkraineCombinedTweetsDeduped_FEB27.csv')\n",
    "feb28_1 = pd.read_csv('/Users/azizhazeinita/MScA/Spring/ML & Pred Analytics/Final Project/UkraineCombinedTweetsDeduped_FEB28_part1.csv.gzip', compression='gzip')\n",
    "feb28_2 = pd.read_csv('/Users/azizhazeinita/MScA/Spring/ML & Pred Analytics/Final Project/UkraineCombinedTweetsDeduped_FEB28_part2.csv.gzip', compression='gzip')\n",
    "\n"
   ]
  },
  {
   "cell_type": "code",
   "execution_count": 68,
   "id": "3906e25f",
   "metadata": {},
   "outputs": [],
   "source": [
    "feb_1 = pd.concat([feb27,feb28_1,feb28_2])"
   ]
  },
  {
   "cell_type": "code",
   "execution_count": 69,
   "id": "efe3dd1c",
   "metadata": {},
   "outputs": [
    {
     "data": {
      "text/html": [
       "<div>\n",
       "<style scoped>\n",
       "    .dataframe tbody tr th:only-of-type {\n",
       "        vertical-align: middle;\n",
       "    }\n",
       "\n",
       "    .dataframe tbody tr th {\n",
       "        vertical-align: top;\n",
       "    }\n",
       "\n",
       "    .dataframe thead th {\n",
       "        text-align: right;\n",
       "    }\n",
       "</style>\n",
       "<table border=\"1\" class=\"dataframe\">\n",
       "  <thead>\n",
       "    <tr style=\"text-align: right;\">\n",
       "      <th></th>\n",
       "      <th>Unnamed: 0</th>\n",
       "      <th>userid</th>\n",
       "      <th>username</th>\n",
       "      <th>acctdesc</th>\n",
       "      <th>location</th>\n",
       "      <th>following</th>\n",
       "      <th>followers</th>\n",
       "      <th>totaltweets</th>\n",
       "      <th>usercreatedts</th>\n",
       "      <th>tweetid</th>\n",
       "      <th>tweetcreatedts</th>\n",
       "      <th>retweetcount</th>\n",
       "      <th>text</th>\n",
       "      <th>hashtags</th>\n",
       "      <th>language</th>\n",
       "      <th>coordinates</th>\n",
       "      <th>favorite_count</th>\n",
       "      <th>extractedts</th>\n",
       "    </tr>\n",
       "  </thead>\n",
       "  <tbody>\n",
       "    <tr>\n",
       "      <th>0</th>\n",
       "      <td>1141800</td>\n",
       "      <td>1466752038960656385</td>\n",
       "      <td>Curtin2Tiffany</td>\n",
       "      <td>I am just like everyone else.  The universe ex...</td>\n",
       "      <td>Colorado, USA</td>\n",
       "      <td>253</td>\n",
       "      <td>40</td>\n",
       "      <td>94</td>\n",
       "      <td>2021-12-03 12:52:22.000000</td>\n",
       "      <td>1497724980259262467</td>\n",
       "      <td>2022-02-27 00:07:16</td>\n",
       "      <td>5</td>\n",
       "      <td>#UkraineRussiaWar Captured Russian soldiers\\n\\...</td>\n",
       "      <td>[{'text': 'UkraineRussiaWar', 'indices': [19, ...</td>\n",
       "      <td>en</td>\n",
       "      <td>NaN</td>\n",
       "      <td>0</td>\n",
       "      <td>2022-02-27 00:09:33.084131</td>\n",
       "    </tr>\n",
       "    <tr>\n",
       "      <th>1</th>\n",
       "      <td>1141801</td>\n",
       "      <td>1111276809302216710</td>\n",
       "      <td>5ela60</td>\n",
       "      <td>الأب ..الأخ ..الجار ..الحبيب .. السديك</td>\n",
       "      <td>NaN</td>\n",
       "      <td>167</td>\n",
       "      <td>9</td>\n",
       "      <td>656</td>\n",
       "      <td>2019-03-28 14:40:12.000000</td>\n",
       "      <td>1497724980271984641</td>\n",
       "      <td>2022-02-27 00:07:16</td>\n",
       "      <td>28</td>\n",
       "      <td>Like everybody else I am rooting for Ukraine t...</td>\n",
       "      <td>[]</td>\n",
       "      <td>en</td>\n",
       "      <td>NaN</td>\n",
       "      <td>0</td>\n",
       "      <td>2022-02-27 00:09:33.068011</td>\n",
       "    </tr>\n",
       "    <tr>\n",
       "      <th>2</th>\n",
       "      <td>1141802</td>\n",
       "      <td>1364735420236505088</td>\n",
       "      <td>StatistWomen</td>\n",
       "      <td>🇹🇷</td>\n",
       "      <td>Cumhur İttifakı</td>\n",
       "      <td>1771</td>\n",
       "      <td>1766</td>\n",
       "      <td>37009</td>\n",
       "      <td>2021-02-25 00:35:28.000000</td>\n",
       "      <td>1497724980322349058</td>\n",
       "      <td>2022-02-27 00:07:16</td>\n",
       "      <td>3</td>\n",
       "      <td>#Ukrayna Güvenlik Servisi, #Rus finosu #Kadiro...</td>\n",
       "      <td>[{'text': 'Ukrayna', 'indices': [15, 23]}, {'t...</td>\n",
       "      <td>tr</td>\n",
       "      <td>NaN</td>\n",
       "      <td>0</td>\n",
       "      <td>2022-02-27 00:09:33.059979</td>\n",
       "    </tr>\n",
       "    <tr>\n",
       "      <th>3</th>\n",
       "      <td>1141803</td>\n",
       "      <td>597779527</td>\n",
       "      <td>OurTurnToRescue</td>\n",
       "      <td>Issues: Threats to Democracy, Racism, GOP corr...</td>\n",
       "      <td>NaN</td>\n",
       "      <td>4847</td>\n",
       "      <td>4080</td>\n",
       "      <td>33666</td>\n",
       "      <td>2012-06-02 21:53:59.000000</td>\n",
       "      <td>1497724980573966346</td>\n",
       "      <td>2022-02-27 00:07:16</td>\n",
       "      <td>1</td>\n",
       "      <td>We elected a game show host and got a clown. #...</td>\n",
       "      <td>[{'text': 'Ukraine', 'indices': [63, 71]}]</td>\n",
       "      <td>en</td>\n",
       "      <td>NaN</td>\n",
       "      <td>0</td>\n",
       "      <td>2022-02-27 00:09:33.051823</td>\n",
       "    </tr>\n",
       "    <tr>\n",
       "      <th>4</th>\n",
       "      <td>1141804</td>\n",
       "      <td>1646145848</td>\n",
       "      <td>DrWAVeSportCd1</td>\n",
       "      <td>Addicted to News, Music, Cooking, Gardens, Out...</td>\n",
       "      <td>USA</td>\n",
       "      <td>5002</td>\n",
       "      <td>3950</td>\n",
       "      <td>466629</td>\n",
       "      <td>2013-08-04 21:07:08.000000</td>\n",
       "      <td>1497724980653694976</td>\n",
       "      <td>2022-02-27 00:07:16</td>\n",
       "      <td>277</td>\n",
       "      <td>Ukrainian soldiers wearing sunflowers in their...</td>\n",
       "      <td>[{'text': 'Ukraine', 'indices': [122, 130]}, {...</td>\n",
       "      <td>en</td>\n",
       "      <td>NaN</td>\n",
       "      <td>0</td>\n",
       "      <td>2022-02-27 00:09:33.043812</td>\n",
       "    </tr>\n",
       "  </tbody>\n",
       "</table>\n",
       "</div>"
      ],
      "text/plain": [
       "   Unnamed: 0               userid         username  \\\n",
       "0     1141800  1466752038960656385   Curtin2Tiffany   \n",
       "1     1141801  1111276809302216710           5ela60   \n",
       "2     1141802  1364735420236505088     StatistWomen   \n",
       "3     1141803            597779527  OurTurnToRescue   \n",
       "4     1141804           1646145848   DrWAVeSportCd1   \n",
       "\n",
       "                                            acctdesc         location  \\\n",
       "0  I am just like everyone else.  The universe ex...    Colorado, USA   \n",
       "1             الأب ..الأخ ..الجار ..الحبيب .. السديك              NaN   \n",
       "2                                                 🇹🇷  Cumhur İttifakı   \n",
       "3  Issues: Threats to Democracy, Racism, GOP corr...              NaN   \n",
       "4  Addicted to News, Music, Cooking, Gardens, Out...              USA   \n",
       "\n",
       "   following  followers  totaltweets               usercreatedts  \\\n",
       "0        253         40           94  2021-12-03 12:52:22.000000   \n",
       "1        167          9          656  2019-03-28 14:40:12.000000   \n",
       "2       1771       1766        37009  2021-02-25 00:35:28.000000   \n",
       "3       4847       4080        33666  2012-06-02 21:53:59.000000   \n",
       "4       5002       3950       466629  2013-08-04 21:07:08.000000   \n",
       "\n",
       "               tweetid       tweetcreatedts  retweetcount  \\\n",
       "0  1497724980259262467  2022-02-27 00:07:16             5   \n",
       "1  1497724980271984641  2022-02-27 00:07:16            28   \n",
       "2  1497724980322349058  2022-02-27 00:07:16             3   \n",
       "3  1497724980573966346  2022-02-27 00:07:16             1   \n",
       "4  1497724980653694976  2022-02-27 00:07:16           277   \n",
       "\n",
       "                                                text  \\\n",
       "0  #UkraineRussiaWar Captured Russian soldiers\\n\\...   \n",
       "1  Like everybody else I am rooting for Ukraine t...   \n",
       "2  #Ukrayna Güvenlik Servisi, #Rus finosu #Kadiro...   \n",
       "3  We elected a game show host and got a clown. #...   \n",
       "4  Ukrainian soldiers wearing sunflowers in their...   \n",
       "\n",
       "                                            hashtags language coordinates  \\\n",
       "0  [{'text': 'UkraineRussiaWar', 'indices': [19, ...       en         NaN   \n",
       "1                                                 []       en         NaN   \n",
       "2  [{'text': 'Ukrayna', 'indices': [15, 23]}, {'t...       tr         NaN   \n",
       "3         [{'text': 'Ukraine', 'indices': [63, 71]}]       en         NaN   \n",
       "4  [{'text': 'Ukraine', 'indices': [122, 130]}, {...       en         NaN   \n",
       "\n",
       "   favorite_count                 extractedts  \n",
       "0               0  2022-02-27 00:09:33.084131  \n",
       "1               0  2022-02-27 00:09:33.068011  \n",
       "2               0  2022-02-27 00:09:33.059979  \n",
       "3               0  2022-02-27 00:09:33.051823  \n",
       "4               0  2022-02-27 00:09:33.043812  "
      ]
     },
     "execution_count": 69,
     "metadata": {},
     "output_type": "execute_result"
    }
   ],
   "source": [
    "feb_1.head()"
   ]
  },
  {
   "cell_type": "code",
   "execution_count": 70,
   "id": "17ccd952",
   "metadata": {},
   "outputs": [],
   "source": [
    "feb = feb_1[(feb_1.location.notna()) & (feb_1.language == 'en')]"
   ]
  },
  {
   "cell_type": "code",
   "execution_count": 71,
   "id": "8f2d9fee",
   "metadata": {},
   "outputs": [
    {
     "data": {
      "text/html": [
       "<div>\n",
       "<style scoped>\n",
       "    .dataframe tbody tr th:only-of-type {\n",
       "        vertical-align: middle;\n",
       "    }\n",
       "\n",
       "    .dataframe tbody tr th {\n",
       "        vertical-align: top;\n",
       "    }\n",
       "\n",
       "    .dataframe thead th {\n",
       "        text-align: right;\n",
       "    }\n",
       "</style>\n",
       "<table border=\"1\" class=\"dataframe\">\n",
       "  <thead>\n",
       "    <tr style=\"text-align: right;\">\n",
       "      <th></th>\n",
       "      <th>Unnamed: 0</th>\n",
       "      <th>userid</th>\n",
       "      <th>username</th>\n",
       "      <th>acctdesc</th>\n",
       "      <th>location</th>\n",
       "      <th>following</th>\n",
       "      <th>followers</th>\n",
       "      <th>totaltweets</th>\n",
       "      <th>usercreatedts</th>\n",
       "      <th>tweetid</th>\n",
       "      <th>tweetcreatedts</th>\n",
       "      <th>retweetcount</th>\n",
       "      <th>text</th>\n",
       "      <th>hashtags</th>\n",
       "      <th>language</th>\n",
       "      <th>coordinates</th>\n",
       "      <th>favorite_count</th>\n",
       "      <th>extractedts</th>\n",
       "    </tr>\n",
       "  </thead>\n",
       "  <tbody>\n",
       "    <tr>\n",
       "      <th>0</th>\n",
       "      <td>1141800</td>\n",
       "      <td>1466752038960656385</td>\n",
       "      <td>Curtin2Tiffany</td>\n",
       "      <td>I am just like everyone else.  The universe ex...</td>\n",
       "      <td>Colorado, USA</td>\n",
       "      <td>253</td>\n",
       "      <td>40</td>\n",
       "      <td>94</td>\n",
       "      <td>2021-12-03 12:52:22.000000</td>\n",
       "      <td>1497724980259262467</td>\n",
       "      <td>2022-02-27 00:07:16</td>\n",
       "      <td>5</td>\n",
       "      <td>#UkraineRussiaWar Captured Russian soldiers\\n\\...</td>\n",
       "      <td>[{'text': 'UkraineRussiaWar', 'indices': [19, ...</td>\n",
       "      <td>en</td>\n",
       "      <td>NaN</td>\n",
       "      <td>0</td>\n",
       "      <td>2022-02-27 00:09:33.084131</td>\n",
       "    </tr>\n",
       "    <tr>\n",
       "      <th>4</th>\n",
       "      <td>1141804</td>\n",
       "      <td>1646145848</td>\n",
       "      <td>DrWAVeSportCd1</td>\n",
       "      <td>Addicted to News, Music, Cooking, Gardens, Out...</td>\n",
       "      <td>USA</td>\n",
       "      <td>5002</td>\n",
       "      <td>3950</td>\n",
       "      <td>466629</td>\n",
       "      <td>2013-08-04 21:07:08.000000</td>\n",
       "      <td>1497724980653694976</td>\n",
       "      <td>2022-02-27 00:07:16</td>\n",
       "      <td>277</td>\n",
       "      <td>Ukrainian soldiers wearing sunflowers in their...</td>\n",
       "      <td>[{'text': 'Ukraine', 'indices': [122, 130]}, {...</td>\n",
       "      <td>en</td>\n",
       "      <td>NaN</td>\n",
       "      <td>0</td>\n",
       "      <td>2022-02-27 00:09:33.043812</td>\n",
       "    </tr>\n",
       "    <tr>\n",
       "      <th>5</th>\n",
       "      <td>1141805</td>\n",
       "      <td>2191952909</td>\n",
       "      <td>WyvernReports</td>\n",
       "      <td>In war, truth is the first casualty. Focus #Sy...</td>\n",
       "      <td>The Blue Marble</td>\n",
       "      <td>700</td>\n",
       "      <td>6424</td>\n",
       "      <td>20689</td>\n",
       "      <td>2013-11-22 21:51:19.000000</td>\n",
       "      <td>1497724980833968129</td>\n",
       "      <td>2022-02-27 00:07:16</td>\n",
       "      <td>565</td>\n",
       "      <td>russian troops destroyed a commercial oil base...</td>\n",
       "      <td>[]</td>\n",
       "      <td>en</td>\n",
       "      <td>NaN</td>\n",
       "      <td>0</td>\n",
       "      <td>2022-02-27 00:09:33.035798</td>\n",
       "    </tr>\n",
       "    <tr>\n",
       "      <th>8</th>\n",
       "      <td>1141808</td>\n",
       "      <td>23611466</td>\n",
       "      <td>isunja</td>\n",
       "      <td>NaN</td>\n",
       "      <td>Göteborg, Sweden</td>\n",
       "      <td>710</td>\n",
       "      <td>219</td>\n",
       "      <td>1328</td>\n",
       "      <td>2009-03-10 16:23:20.000000</td>\n",
       "      <td>1497724981157023749</td>\n",
       "      <td>2022-02-27 00:07:16</td>\n",
       "      <td>53</td>\n",
       "      <td>Some scenes from #Kyiv this morning: The build...</td>\n",
       "      <td>[{'text': 'Kyiv', 'indices': [32, 37]}]</td>\n",
       "      <td>en</td>\n",
       "      <td>NaN</td>\n",
       "      <td>0</td>\n",
       "      <td>2022-02-27 00:09:33.003577</td>\n",
       "    </tr>\n",
       "    <tr>\n",
       "      <th>9</th>\n",
       "      <td>1141809</td>\n",
       "      <td>875055153157722112</td>\n",
       "      <td>manonatelier</td>\n",
       "      <td>WordPress • Designer Dork • Art Lover • Hometo...</td>\n",
       "      <td>NY/PA</td>\n",
       "      <td>2779</td>\n",
       "      <td>582</td>\n",
       "      <td>116858</td>\n",
       "      <td>2017-06-14 18:19:41.000000</td>\n",
       "      <td>1497724981538660357</td>\n",
       "      <td>2022-02-27 00:07:16</td>\n",
       "      <td>40</td>\n",
       "      <td>Meanwhile American “intelligence” pretended an...</td>\n",
       "      <td>[]</td>\n",
       "      <td>en</td>\n",
       "      <td>NaN</td>\n",
       "      <td>0</td>\n",
       "      <td>2022-02-27 00:09:32.995537</td>\n",
       "    </tr>\n",
       "  </tbody>\n",
       "</table>\n",
       "</div>"
      ],
      "text/plain": [
       "   Unnamed: 0               userid        username  \\\n",
       "0     1141800  1466752038960656385  Curtin2Tiffany   \n",
       "4     1141804           1646145848  DrWAVeSportCd1   \n",
       "5     1141805           2191952909   WyvernReports   \n",
       "8     1141808             23611466          isunja   \n",
       "9     1141809   875055153157722112    manonatelier   \n",
       "\n",
       "                                            acctdesc          location  \\\n",
       "0  I am just like everyone else.  The universe ex...     Colorado, USA   \n",
       "4  Addicted to News, Music, Cooking, Gardens, Out...               USA   \n",
       "5  In war, truth is the first casualty. Focus #Sy...   The Blue Marble   \n",
       "8                                                NaN  Göteborg, Sweden   \n",
       "9  WordPress • Designer Dork • Art Lover • Hometo...             NY/PA   \n",
       "\n",
       "   following  followers  totaltweets               usercreatedts  \\\n",
       "0        253         40           94  2021-12-03 12:52:22.000000   \n",
       "4       5002       3950       466629  2013-08-04 21:07:08.000000   \n",
       "5        700       6424        20689  2013-11-22 21:51:19.000000   \n",
       "8        710        219         1328  2009-03-10 16:23:20.000000   \n",
       "9       2779        582       116858  2017-06-14 18:19:41.000000   \n",
       "\n",
       "               tweetid       tweetcreatedts  retweetcount  \\\n",
       "0  1497724980259262467  2022-02-27 00:07:16             5   \n",
       "4  1497724980653694976  2022-02-27 00:07:16           277   \n",
       "5  1497724980833968129  2022-02-27 00:07:16           565   \n",
       "8  1497724981157023749  2022-02-27 00:07:16            53   \n",
       "9  1497724981538660357  2022-02-27 00:07:16            40   \n",
       "\n",
       "                                                text  \\\n",
       "0  #UkraineRussiaWar Captured Russian soldiers\\n\\...   \n",
       "4  Ukrainian soldiers wearing sunflowers in their...   \n",
       "5  russian troops destroyed a commercial oil base...   \n",
       "8  Some scenes from #Kyiv this morning: The build...   \n",
       "9  Meanwhile American “intelligence” pretended an...   \n",
       "\n",
       "                                            hashtags language coordinates  \\\n",
       "0  [{'text': 'UkraineRussiaWar', 'indices': [19, ...       en         NaN   \n",
       "4  [{'text': 'Ukraine', 'indices': [122, 130]}, {...       en         NaN   \n",
       "5                                                 []       en         NaN   \n",
       "8            [{'text': 'Kyiv', 'indices': [32, 37]}]       en         NaN   \n",
       "9                                                 []       en         NaN   \n",
       "\n",
       "   favorite_count                 extractedts  \n",
       "0               0  2022-02-27 00:09:33.084131  \n",
       "4               0  2022-02-27 00:09:33.043812  \n",
       "5               0  2022-02-27 00:09:33.035798  \n",
       "8               0  2022-02-27 00:09:33.003577  \n",
       "9               0  2022-02-27 00:09:32.995537  "
      ]
     },
     "execution_count": 71,
     "metadata": {},
     "output_type": "execute_result"
    }
   ],
   "source": [
    "feb.head()"
   ]
  },
  {
   "cell_type": "code",
   "execution_count": 39,
   "id": "9cadb187",
   "metadata": {},
   "outputs": [
    {
     "data": {
      "text/html": [
       "<div>\n",
       "<style scoped>\n",
       "    .dataframe tbody tr th:only-of-type {\n",
       "        vertical-align: middle;\n",
       "    }\n",
       "\n",
       "    .dataframe tbody tr th {\n",
       "        vertical-align: top;\n",
       "    }\n",
       "\n",
       "    .dataframe thead th {\n",
       "        text-align: right;\n",
       "    }\n",
       "</style>\n",
       "<table border=\"1\" class=\"dataframe\">\n",
       "  <thead>\n",
       "    <tr style=\"text-align: right;\">\n",
       "      <th></th>\n",
       "      <th>Unnamed: 0</th>\n",
       "      <th>userid</th>\n",
       "      <th>following</th>\n",
       "      <th>followers</th>\n",
       "      <th>totaltweets</th>\n",
       "      <th>tweetid</th>\n",
       "      <th>retweetcount</th>\n",
       "      <th>favorite_count</th>\n",
       "    </tr>\n",
       "  </thead>\n",
       "  <tbody>\n",
       "    <tr>\n",
       "      <th>count</th>\n",
       "      <td>2.810000e+05</td>\n",
       "      <td>2.810000e+05</td>\n",
       "      <td>281000.000000</td>\n",
       "      <td>2.810000e+05</td>\n",
       "      <td>2.810000e+05</td>\n",
       "      <td>2.810000e+05</td>\n",
       "      <td>281000.000000</td>\n",
       "      <td>281000.000000</td>\n",
       "    </tr>\n",
       "    <tr>\n",
       "      <th>mean</th>\n",
       "      <td>1.169998e+06</td>\n",
       "      <td>4.788385e+17</td>\n",
       "      <td>2107.710979</td>\n",
       "      <td>1.316288e+04</td>\n",
       "      <td>5.493547e+04</td>\n",
       "      <td>1.498085e+18</td>\n",
       "      <td>2411.622110</td>\n",
       "      <td>0.124363</td>\n",
       "    </tr>\n",
       "    <tr>\n",
       "      <th>std</th>\n",
       "      <td>5.600642e+05</td>\n",
       "      <td>5.894556e+17</td>\n",
       "      <td>6899.216873</td>\n",
       "      <td>2.679430e+05</td>\n",
       "      <td>1.287654e+05</td>\n",
       "      <td>2.173391e+14</td>\n",
       "      <td>13051.828628</td>\n",
       "      <td>1.829652</td>\n",
       "    </tr>\n",
       "    <tr>\n",
       "      <th>min</th>\n",
       "      <td>1.000000e+01</td>\n",
       "      <td>2.210000e+02</td>\n",
       "      <td>0.000000</td>\n",
       "      <td>0.000000e+00</td>\n",
       "      <td>0.000000e+00</td>\n",
       "      <td>1.497725e+18</td>\n",
       "      <td>0.000000</td>\n",
       "      <td>0.000000</td>\n",
       "    </tr>\n",
       "    <tr>\n",
       "      <th>25%</th>\n",
       "      <td>1.178003e+06</td>\n",
       "      <td>2.513190e+08</td>\n",
       "      <td>250.000000</td>\n",
       "      <td>1.200000e+02</td>\n",
       "      <td>2.442000e+03</td>\n",
       "      <td>1.497884e+18</td>\n",
       "      <td>1.000000</td>\n",
       "      <td>0.000000</td>\n",
       "    </tr>\n",
       "    <tr>\n",
       "      <th>50%</th>\n",
       "      <td>1.364394e+06</td>\n",
       "      <td>2.587791e+09</td>\n",
       "      <td>764.000000</td>\n",
       "      <td>5.040000e+02</td>\n",
       "      <td>1.288300e+04</td>\n",
       "      <td>1.498092e+18</td>\n",
       "      <td>41.000000</td>\n",
       "      <td>0.000000</td>\n",
       "    </tr>\n",
       "    <tr>\n",
       "      <th>75%</th>\n",
       "      <td>1.545479e+06</td>\n",
       "      <td>1.092918e+18</td>\n",
       "      <td>2196.000000</td>\n",
       "      <td>1.879000e+03</td>\n",
       "      <td>5.108625e+04</td>\n",
       "      <td>1.498281e+18</td>\n",
       "      <td>442.000000</td>\n",
       "      <td>0.000000</td>\n",
       "    </tr>\n",
       "    <tr>\n",
       "      <th>max</th>\n",
       "      <td>1.736600e+06</td>\n",
       "      <td>1.498430e+18</td>\n",
       "      <td>590113.000000</td>\n",
       "      <td>2.454344e+07</td>\n",
       "      <td>4.016404e+06</td>\n",
       "      <td>1.498441e+18</td>\n",
       "      <td>145306.000000</td>\n",
       "      <td>337.000000</td>\n",
       "    </tr>\n",
       "  </tbody>\n",
       "</table>\n",
       "</div>"
      ],
      "text/plain": [
       "         Unnamed: 0        userid      following     followers   totaltweets  \\\n",
       "count  2.810000e+05  2.810000e+05  281000.000000  2.810000e+05  2.810000e+05   \n",
       "mean   1.169998e+06  4.788385e+17    2107.710979  1.316288e+04  5.493547e+04   \n",
       "std    5.600642e+05  5.894556e+17    6899.216873  2.679430e+05  1.287654e+05   \n",
       "min    1.000000e+01  2.210000e+02       0.000000  0.000000e+00  0.000000e+00   \n",
       "25%    1.178003e+06  2.513190e+08     250.000000  1.200000e+02  2.442000e+03   \n",
       "50%    1.364394e+06  2.587791e+09     764.000000  5.040000e+02  1.288300e+04   \n",
       "75%    1.545479e+06  1.092918e+18    2196.000000  1.879000e+03  5.108625e+04   \n",
       "max    1.736600e+06  1.498430e+18  590113.000000  2.454344e+07  4.016404e+06   \n",
       "\n",
       "            tweetid   retweetcount  favorite_count  \n",
       "count  2.810000e+05  281000.000000   281000.000000  \n",
       "mean   1.498085e+18    2411.622110        0.124363  \n",
       "std    2.173391e+14   13051.828628        1.829652  \n",
       "min    1.497725e+18       0.000000        0.000000  \n",
       "25%    1.497884e+18       1.000000        0.000000  \n",
       "50%    1.498092e+18      41.000000        0.000000  \n",
       "75%    1.498281e+18     442.000000        0.000000  \n",
       "max    1.498441e+18  145306.000000      337.000000  "
      ]
     },
     "execution_count": 39,
     "metadata": {},
     "output_type": "execute_result"
    }
   ],
   "source": [
    "feb.describe()"
   ]
  },
  {
   "cell_type": "code",
   "execution_count": 40,
   "id": "7abfd6cc",
   "metadata": {},
   "outputs": [
    {
     "data": {
      "text/plain": [
       "Index(['Unnamed: 0', 'userid', 'username', 'acctdesc', 'location', 'following',\n",
       "       'followers', 'totaltweets', 'usercreatedts', 'tweetid',\n",
       "       'tweetcreatedts', 'retweetcount', 'text', 'hashtags', 'language',\n",
       "       'coordinates', 'favorite_count', 'extractedts'],\n",
       "      dtype='object')"
      ]
     },
     "execution_count": 40,
     "metadata": {},
     "output_type": "execute_result"
    }
   ],
   "source": [
    "feb.columns"
   ]
  },
  {
   "cell_type": "code",
   "execution_count": 41,
   "id": "b87bcb0d",
   "metadata": {
    "scrolled": true
   },
   "outputs": [
    {
     "name": "stdout",
     "output_type": "stream",
     "text": [
      "<class 'pandas.core.frame.DataFrame'>\n",
      "Int64Index: 281000 entries, 0 to 140382\n",
      "Data columns (total 18 columns):\n",
      " #   Column          Non-Null Count   Dtype \n",
      "---  ------          --------------   ----- \n",
      " 0   Unnamed: 0      281000 non-null  int64 \n",
      " 1   userid          281000 non-null  int64 \n",
      " 2   username        281000 non-null  object\n",
      " 3   acctdesc        253427 non-null  object\n",
      " 4   location        281000 non-null  object\n",
      " 5   following       281000 non-null  int64 \n",
      " 6   followers       281000 non-null  int64 \n",
      " 7   totaltweets     281000 non-null  int64 \n",
      " 8   usercreatedts   281000 non-null  object\n",
      " 9   tweetid         281000 non-null  int64 \n",
      " 10  tweetcreatedts  281000 non-null  object\n",
      " 11  retweetcount    281000 non-null  int64 \n",
      " 12  text            281000 non-null  object\n",
      " 13  hashtags        281000 non-null  object\n",
      " 14  language        281000 non-null  object\n",
      " 15  coordinates     26 non-null      object\n",
      " 16  favorite_count  281000 non-null  int64 \n",
      " 17  extractedts     281000 non-null  object\n",
      "dtypes: int64(8), object(10)\n",
      "memory usage: 40.7+ MB\n"
     ]
    }
   ],
   "source": [
    "feb.info()"
   ]
  },
  {
   "cell_type": "code",
   "execution_count": 42,
   "id": "099654f3",
   "metadata": {},
   "outputs": [
    {
     "data": {
      "text/plain": [
       "coordinates       280974\n",
       "acctdesc           27573\n",
       "Unnamed: 0             0\n",
       "tweetcreatedts         0\n",
       "favorite_count         0\n",
       "language               0\n",
       "hashtags               0\n",
       "text                   0\n",
       "retweetcount           0\n",
       "tweetid                0\n",
       "userid                 0\n",
       "usercreatedts          0\n",
       "totaltweets            0\n",
       "followers              0\n",
       "following              0\n",
       "location               0\n",
       "username               0\n",
       "extractedts            0\n",
       "dtype: int64"
      ]
     },
     "execution_count": 42,
     "metadata": {},
     "output_type": "execute_result"
    }
   ],
   "source": [
    "feb.isna().sum().sort_values(ascending=False)"
   ]
  },
  {
   "cell_type": "markdown",
   "id": "c8bc95a2",
   "metadata": {},
   "source": [
    "* We decide not to drop any columns despite of their null values, because they don't affect the essential columns we use"
   ]
  },
  {
   "cell_type": "markdown",
   "id": "e023999a",
   "metadata": {},
   "source": [
    "## B. March Dataset"
   ]
  },
  {
   "cell_type": "code",
   "execution_count": 62,
   "id": "4c802596",
   "metadata": {},
   "outputs": [],
   "source": [
    "mar19_1 = pd.read_csv('/Users/azizhazeinita/MScA/Spring/ML & Pred Analytics/Final Project/UkraineCombinedTweetsDeduped_MAR19.csv')\n",
    "mar21_1 = pd.read_csv('/Users/azizhazeinita/MScA/Spring/ML & Pred Analytics/Final Project/UkraineCombinedTweetsDeduped_MAR21.csv.gzip', compression='gzip')\n",
    "mar31_1 = pd.read_csv('/Users/azizhazeinita/MScA/Spring/ML & Pred Analytics/Final Project/UkraineCombinedTweetsDeduped_MAR31.csv')\n",
    "\n"
   ]
  },
  {
   "cell_type": "code",
   "execution_count": 63,
   "id": "e18d58be",
   "metadata": {},
   "outputs": [
    {
     "data": {
      "text/html": [
       "<div>\n",
       "<style scoped>\n",
       "    .dataframe tbody tr th:only-of-type {\n",
       "        vertical-align: middle;\n",
       "    }\n",
       "\n",
       "    .dataframe tbody tr th {\n",
       "        vertical-align: top;\n",
       "    }\n",
       "\n",
       "    .dataframe thead th {\n",
       "        text-align: right;\n",
       "    }\n",
       "</style>\n",
       "<table border=\"1\" class=\"dataframe\">\n",
       "  <thead>\n",
       "    <tr style=\"text-align: right;\">\n",
       "      <th></th>\n",
       "      <th>Unnamed: 0</th>\n",
       "      <th>userid</th>\n",
       "      <th>username</th>\n",
       "      <th>acctdesc</th>\n",
       "      <th>location</th>\n",
       "      <th>following</th>\n",
       "      <th>followers</th>\n",
       "      <th>totaltweets</th>\n",
       "      <th>usercreatedts</th>\n",
       "      <th>tweetid</th>\n",
       "      <th>tweetcreatedts</th>\n",
       "      <th>retweetcount</th>\n",
       "      <th>text</th>\n",
       "      <th>hashtags</th>\n",
       "      <th>language</th>\n",
       "      <th>coordinates</th>\n",
       "      <th>favorite_count</th>\n",
       "      <th>extractedts</th>\n",
       "    </tr>\n",
       "  </thead>\n",
       "  <tbody>\n",
       "    <tr>\n",
       "      <th>0</th>\n",
       "      <td>0</td>\n",
       "      <td>1316432632373219333</td>\n",
       "      <td>siemprevenezue6</td>\n",
       "      <td>🚩Cuenta oficial de @Siemprevenezuela \\nRevista...</td>\n",
       "      <td>Cúcuta. Colombia</td>\n",
       "      <td>1179</td>\n",
       "      <td>1508</td>\n",
       "      <td>7822</td>\n",
       "      <td>2020-10-14 17:37:05.000000</td>\n",
       "      <td>1504970908292722688</td>\n",
       "      <td>2022-03-19 00:00:00</td>\n",
       "      <td>0</td>\n",
       "      <td>¿Piensa #Putin entregarle un «maletín nuclear ...</td>\n",
       "      <td>[{'text': 'Putin', 'indices': [8, 14]}, {'text...</td>\n",
       "      <td>es</td>\n",
       "      <td>NaN</td>\n",
       "      <td>0</td>\n",
       "      <td>2022-03-19 00:21:28.170173</td>\n",
       "    </tr>\n",
       "    <tr>\n",
       "      <th>1</th>\n",
       "      <td>1</td>\n",
       "      <td>1495021491297136647</td>\n",
       "      <td>RashnisComeback</td>\n",
       "      <td>Rashni is the first virtual music artist to la...</td>\n",
       "      <td>switzerland</td>\n",
       "      <td>6</td>\n",
       "      <td>418</td>\n",
       "      <td>15</td>\n",
       "      <td>2022-02-19 13:05:04.000000</td>\n",
       "      <td>1504970908364156928</td>\n",
       "      <td>2022-03-19 00:00:00</td>\n",
       "      <td>0</td>\n",
       "      <td>\"Violence is the weapon of the weak, non-viole...</td>\n",
       "      <td>[{'text': 'LetsPrayTogether', 'indices': [89, ...</td>\n",
       "      <td>en</td>\n",
       "      <td>NaN</td>\n",
       "      <td>0</td>\n",
       "      <td>2022-03-19 00:06:57.230341</td>\n",
       "    </tr>\n",
       "    <tr>\n",
       "      <th>2</th>\n",
       "      <td>2</td>\n",
       "      <td>843239474</td>\n",
       "      <td>CNUkraine</td>\n",
       "      <td>NaN</td>\n",
       "      <td>Ukraine</td>\n",
       "      <td>129</td>\n",
       "      <td>74</td>\n",
       "      <td>388</td>\n",
       "      <td>2012-09-24 09:06:46.000000</td>\n",
       "      <td>1504970909215600640</td>\n",
       "      <td>2022-03-19 00:00:00</td>\n",
       "      <td>0</td>\n",
       "      <td>The russian Occupiers dropped a super-powerful...</td>\n",
       "      <td>[{'text': 'StopRussia', 'indices': [123, 134]}...</td>\n",
       "      <td>en</td>\n",
       "      <td>NaN</td>\n",
       "      <td>0</td>\n",
       "      <td>2022-03-19 00:21:28.162213</td>\n",
       "    </tr>\n",
       "    <tr>\n",
       "      <th>3</th>\n",
       "      <td>3</td>\n",
       "      <td>915002523584487424</td>\n",
       "      <td>upoliticsnow</td>\n",
       "      <td>U Know Better.</td>\n",
       "      <td>New York, NY</td>\n",
       "      <td>442</td>\n",
       "      <td>13222</td>\n",
       "      <td>4343</td>\n",
       "      <td>2017-10-02 23:56:16.000000</td>\n",
       "      <td>1504970909962039296</td>\n",
       "      <td>2022-03-19 00:00:00</td>\n",
       "      <td>0</td>\n",
       "      <td>Putin Calls Russians Who Sympathize With The W...</td>\n",
       "      <td>[{'text': 'Putin', 'indices': [61, 67]}, {'tex...</td>\n",
       "      <td>en</td>\n",
       "      <td>NaN</td>\n",
       "      <td>1</td>\n",
       "      <td>2022-03-19 00:21:28.154032</td>\n",
       "    </tr>\n",
       "    <tr>\n",
       "      <th>4</th>\n",
       "      <td>4</td>\n",
       "      <td>180748385</td>\n",
       "      <td>orfonline</td>\n",
       "      <td>Non–partisan, independent analyses on security...</td>\n",
       "      <td>India</td>\n",
       "      <td>138</td>\n",
       "      <td>108656</td>\n",
       "      <td>280212</td>\n",
       "      <td>2010-08-20 11:19:22.000000</td>\n",
       "      <td>1504970909978820611</td>\n",
       "      <td>2022-03-19 00:00:00</td>\n",
       "      <td>0</td>\n",
       "      <td>Strong sanctions on #Moscow will likely compli...</td>\n",
       "      <td>[{'text': 'Moscow', 'indices': [20, 27]}, {'te...</td>\n",
       "      <td>en</td>\n",
       "      <td>NaN</td>\n",
       "      <td>1</td>\n",
       "      <td>2022-03-19 00:21:28.146142</td>\n",
       "    </tr>\n",
       "  </tbody>\n",
       "</table>\n",
       "</div>"
      ],
      "text/plain": [
       "   Unnamed: 0               userid         username  \\\n",
       "0           0  1316432632373219333  siemprevenezue6   \n",
       "1           1  1495021491297136647  RashnisComeback   \n",
       "2           2            843239474        CNUkraine   \n",
       "3           3   915002523584487424     upoliticsnow   \n",
       "4           4            180748385        orfonline   \n",
       "\n",
       "                                            acctdesc          location  \\\n",
       "0  🚩Cuenta oficial de @Siemprevenezuela \\nRevista...  Cúcuta. Colombia   \n",
       "1  Rashni is the first virtual music artist to la...       switzerland   \n",
       "2                                                NaN           Ukraine   \n",
       "3                                     U Know Better.      New York, NY   \n",
       "4  Non–partisan, independent analyses on security...             India   \n",
       "\n",
       "   following  followers  totaltweets               usercreatedts  \\\n",
       "0       1179       1508         7822  2020-10-14 17:37:05.000000   \n",
       "1          6        418           15  2022-02-19 13:05:04.000000   \n",
       "2        129         74          388  2012-09-24 09:06:46.000000   \n",
       "3        442      13222         4343  2017-10-02 23:56:16.000000   \n",
       "4        138     108656       280212  2010-08-20 11:19:22.000000   \n",
       "\n",
       "               tweetid       tweetcreatedts  retweetcount  \\\n",
       "0  1504970908292722688  2022-03-19 00:00:00             0   \n",
       "1  1504970908364156928  2022-03-19 00:00:00             0   \n",
       "2  1504970909215600640  2022-03-19 00:00:00             0   \n",
       "3  1504970909962039296  2022-03-19 00:00:00             0   \n",
       "4  1504970909978820611  2022-03-19 00:00:00             0   \n",
       "\n",
       "                                                text  \\\n",
       "0  ¿Piensa #Putin entregarle un «maletín nuclear ...   \n",
       "1  \"Violence is the weapon of the weak, non-viole...   \n",
       "2  The russian Occupiers dropped a super-powerful...   \n",
       "3  Putin Calls Russians Who Sympathize With The W...   \n",
       "4  Strong sanctions on #Moscow will likely compli...   \n",
       "\n",
       "                                            hashtags language coordinates  \\\n",
       "0  [{'text': 'Putin', 'indices': [8, 14]}, {'text...       es         NaN   \n",
       "1  [{'text': 'LetsPrayTogether', 'indices': [89, ...       en         NaN   \n",
       "2  [{'text': 'StopRussia', 'indices': [123, 134]}...       en         NaN   \n",
       "3  [{'text': 'Putin', 'indices': [61, 67]}, {'tex...       en         NaN   \n",
       "4  [{'text': 'Moscow', 'indices': [20, 27]}, {'te...       en         NaN   \n",
       "\n",
       "   favorite_count                 extractedts  \n",
       "0               0  2022-03-19 00:21:28.170173  \n",
       "1               0  2022-03-19 00:06:57.230341  \n",
       "2               0  2022-03-19 00:21:28.162213  \n",
       "3               1  2022-03-19 00:21:28.154032  \n",
       "4               1  2022-03-19 00:21:28.146142  "
      ]
     },
     "execution_count": 63,
     "metadata": {},
     "output_type": "execute_result"
    }
   ],
   "source": [
    "mar19_1.head()"
   ]
  },
  {
   "cell_type": "code",
   "execution_count": 64,
   "id": "25c3d0c2",
   "metadata": {},
   "outputs": [],
   "source": [
    "mar19 = mar19_1[(mar19_1.location.notna()) & (mar19_1.language == 'en')]\n",
    "mar21 = mar21_1[(mar21_1.location.notna()) & (mar21_1.language == 'en')]\n",
    "mar31 = mar31_1[(mar31_1.location.notna()) & (mar31_1.language == 'en')]"
   ]
  },
  {
   "cell_type": "code",
   "execution_count": 101,
   "id": "0169ecae",
   "metadata": {
    "scrolled": false
   },
   "outputs": [
    {
     "name": "stdout",
     "output_type": "stream",
     "text": [
      "<class 'pandas.core.frame.DataFrame'>\n",
      "Int64Index: 181836 entries, 1 to 442665\n",
      "Data columns (total 18 columns):\n",
      " #   Column          Non-Null Count   Dtype \n",
      "---  ------          --------------   ----- \n",
      " 0   Unnamed: 0      181836 non-null  int64 \n",
      " 1   userid          181836 non-null  int64 \n",
      " 2   username        181836 non-null  object\n",
      " 3   acctdesc        163183 non-null  object\n",
      " 4   location        181836 non-null  object\n",
      " 5   following       181836 non-null  int64 \n",
      " 6   followers       181836 non-null  int64 \n",
      " 7   totaltweets     181836 non-null  int64 \n",
      " 8   usercreatedts   181836 non-null  object\n",
      " 9   tweetid         181836 non-null  int64 \n",
      " 10  tweetcreatedts  181836 non-null  object\n",
      " 11  retweetcount    181836 non-null  int64 \n",
      " 12  text            181836 non-null  object\n",
      " 13  hashtags        181836 non-null  object\n",
      " 14  language        181836 non-null  object\n",
      " 15  coordinates     29 non-null      object\n",
      " 16  favorite_count  181836 non-null  int64 \n",
      " 17  extractedts     181836 non-null  object\n",
      "dtypes: int64(8), object(10)\n",
      "memory usage: 26.4+ MB\n"
     ]
    }
   ],
   "source": [
    "mar19.info()"
   ]
  },
  {
   "cell_type": "code",
   "execution_count": 59,
   "id": "2d393a9e",
   "metadata": {},
   "outputs": [
    {
     "data": {
      "text/html": [
       "<div>\n",
       "<style scoped>\n",
       "    .dataframe tbody tr th:only-of-type {\n",
       "        vertical-align: middle;\n",
       "    }\n",
       "\n",
       "    .dataframe tbody tr th {\n",
       "        vertical-align: top;\n",
       "    }\n",
       "\n",
       "    .dataframe thead th {\n",
       "        text-align: right;\n",
       "    }\n",
       "</style>\n",
       "<table border=\"1\" class=\"dataframe\">\n",
       "  <thead>\n",
       "    <tr style=\"text-align: right;\">\n",
       "      <th></th>\n",
       "      <th>Unnamed: 0</th>\n",
       "      <th>userid</th>\n",
       "      <th>following</th>\n",
       "      <th>followers</th>\n",
       "      <th>totaltweets</th>\n",
       "      <th>tweetid</th>\n",
       "      <th>retweetcount</th>\n",
       "      <th>favorite_count</th>\n",
       "    </tr>\n",
       "  </thead>\n",
       "  <tbody>\n",
       "    <tr>\n",
       "      <th>count</th>\n",
       "      <td>181836.000000</td>\n",
       "      <td>1.818360e+05</td>\n",
       "      <td>181836.000000</td>\n",
       "      <td>1.818360e+05</td>\n",
       "      <td>1.818360e+05</td>\n",
       "      <td>1.818360e+05</td>\n",
       "      <td>181836.000000</td>\n",
       "      <td>181836.000000</td>\n",
       "    </tr>\n",
       "    <tr>\n",
       "      <th>mean</th>\n",
       "      <td>220646.910777</td>\n",
       "      <td>4.762284e+17</td>\n",
       "      <td>2631.407356</td>\n",
       "      <td>1.359209e+04</td>\n",
       "      <td>6.745890e+04</td>\n",
       "      <td>1.505162e+18</td>\n",
       "      <td>1422.473416</td>\n",
       "      <td>0.220242</td>\n",
       "    </tr>\n",
       "    <tr>\n",
       "      <th>std</th>\n",
       "      <td>131632.978623</td>\n",
       "      <td>5.984656e+17</td>\n",
       "      <td>8292.238780</td>\n",
       "      <td>2.786439e+05</td>\n",
       "      <td>1.551636e+05</td>\n",
       "      <td>1.051386e+14</td>\n",
       "      <td>4643.695842</td>\n",
       "      <td>4.819551</td>\n",
       "    </tr>\n",
       "    <tr>\n",
       "      <th>min</th>\n",
       "      <td>1.000000</td>\n",
       "      <td>1.081000e+03</td>\n",
       "      <td>0.000000</td>\n",
       "      <td>0.000000e+00</td>\n",
       "      <td>1.000000e+00</td>\n",
       "      <td>1.504971e+18</td>\n",
       "      <td>0.000000</td>\n",
       "      <td>0.000000</td>\n",
       "    </tr>\n",
       "    <tr>\n",
       "      <th>25%</th>\n",
       "      <td>101972.250000</td>\n",
       "      <td>2.476193e+08</td>\n",
       "      <td>285.000000</td>\n",
       "      <td>1.350000e+02</td>\n",
       "      <td>3.821000e+03</td>\n",
       "      <td>1.505074e+18</td>\n",
       "      <td>2.000000</td>\n",
       "      <td>0.000000</td>\n",
       "    </tr>\n",
       "    <tr>\n",
       "      <th>50%</th>\n",
       "      <td>224038.000000</td>\n",
       "      <td>2.495721e+09</td>\n",
       "      <td>910.000000</td>\n",
       "      <td>5.810000e+02</td>\n",
       "      <td>1.760400e+04</td>\n",
       "      <td>1.505169e+18</td>\n",
       "      <td>67.000000</td>\n",
       "      <td>0.000000</td>\n",
       "    </tr>\n",
       "    <tr>\n",
       "      <th>75%</th>\n",
       "      <td>335561.500000</td>\n",
       "      <td>1.098089e+18</td>\n",
       "      <td>2746.000000</td>\n",
       "      <td>2.172250e+03</td>\n",
       "      <td>6.565300e+04</td>\n",
       "      <td>1.505252e+18</td>\n",
       "      <td>556.000000</td>\n",
       "      <td>0.000000</td>\n",
       "    </tr>\n",
       "    <tr>\n",
       "      <th>max</th>\n",
       "      <td>442665.000000</td>\n",
       "      <td>1.505327e+18</td>\n",
       "      <td>569257.000000</td>\n",
       "      <td>1.762007e+07</td>\n",
       "      <td>4.027073e+06</td>\n",
       "      <td>1.505333e+18</td>\n",
       "      <td>147457.000000</td>\n",
       "      <td>642.000000</td>\n",
       "    </tr>\n",
       "  </tbody>\n",
       "</table>\n",
       "</div>"
      ],
      "text/plain": [
       "          Unnamed: 0        userid      following     followers   totaltweets  \\\n",
       "count  181836.000000  1.818360e+05  181836.000000  1.818360e+05  1.818360e+05   \n",
       "mean   220646.910777  4.762284e+17    2631.407356  1.359209e+04  6.745890e+04   \n",
       "std    131632.978623  5.984656e+17    8292.238780  2.786439e+05  1.551636e+05   \n",
       "min         1.000000  1.081000e+03       0.000000  0.000000e+00  1.000000e+00   \n",
       "25%    101972.250000  2.476193e+08     285.000000  1.350000e+02  3.821000e+03   \n",
       "50%    224038.000000  2.495721e+09     910.000000  5.810000e+02  1.760400e+04   \n",
       "75%    335561.500000  1.098089e+18    2746.000000  2.172250e+03  6.565300e+04   \n",
       "max    442665.000000  1.505327e+18  569257.000000  1.762007e+07  4.027073e+06   \n",
       "\n",
       "            tweetid   retweetcount  favorite_count  \n",
       "count  1.818360e+05  181836.000000   181836.000000  \n",
       "mean   1.505162e+18    1422.473416        0.220242  \n",
       "std    1.051386e+14    4643.695842        4.819551  \n",
       "min    1.504971e+18       0.000000        0.000000  \n",
       "25%    1.505074e+18       2.000000        0.000000  \n",
       "50%    1.505169e+18      67.000000        0.000000  \n",
       "75%    1.505252e+18     556.000000        0.000000  \n",
       "max    1.505333e+18  147457.000000      642.000000  "
      ]
     },
     "execution_count": 59,
     "metadata": {},
     "output_type": "execute_result"
    }
   ],
   "source": [
    "mar19.describe()"
   ]
  },
  {
   "cell_type": "code",
   "execution_count": 60,
   "id": "6d83c8fe",
   "metadata": {},
   "outputs": [
    {
     "data": {
      "text/html": [
       "<div>\n",
       "<style scoped>\n",
       "    .dataframe tbody tr th:only-of-type {\n",
       "        vertical-align: middle;\n",
       "    }\n",
       "\n",
       "    .dataframe tbody tr th {\n",
       "        vertical-align: top;\n",
       "    }\n",
       "\n",
       "    .dataframe thead th {\n",
       "        text-align: right;\n",
       "    }\n",
       "</style>\n",
       "<table border=\"1\" class=\"dataframe\">\n",
       "  <thead>\n",
       "    <tr style=\"text-align: right;\">\n",
       "      <th></th>\n",
       "      <th>Unnamed: 0</th>\n",
       "      <th>userid</th>\n",
       "      <th>following</th>\n",
       "      <th>followers</th>\n",
       "      <th>totaltweets</th>\n",
       "      <th>tweetid</th>\n",
       "      <th>retweetcount</th>\n",
       "      <th>favorite_count</th>\n",
       "    </tr>\n",
       "  </thead>\n",
       "  <tbody>\n",
       "    <tr>\n",
       "      <th>count</th>\n",
       "      <td>202118.000000</td>\n",
       "      <td>2.021180e+05</td>\n",
       "      <td>202118.000000</td>\n",
       "      <td>2.021180e+05</td>\n",
       "      <td>2.021180e+05</td>\n",
       "      <td>2.021180e+05</td>\n",
       "      <td>202118.000000</td>\n",
       "      <td>202118.000000</td>\n",
       "    </tr>\n",
       "    <tr>\n",
       "      <th>mean</th>\n",
       "      <td>240254.417815</td>\n",
       "      <td>4.655664e+17</td>\n",
       "      <td>2588.280217</td>\n",
       "      <td>1.353052e+04</td>\n",
       "      <td>7.040705e+04</td>\n",
       "      <td>1.505884e+18</td>\n",
       "      <td>1331.018316</td>\n",
       "      <td>0.204791</td>\n",
       "    </tr>\n",
       "    <tr>\n",
       "      <th>std</th>\n",
       "      <td>141699.780398</td>\n",
       "      <td>5.951261e+17</td>\n",
       "      <td>8729.091149</td>\n",
       "      <td>2.523111e+05</td>\n",
       "      <td>1.594965e+05</td>\n",
       "      <td>1.035248e+14</td>\n",
       "      <td>3813.243498</td>\n",
       "      <td>4.397205</td>\n",
       "    </tr>\n",
       "    <tr>\n",
       "      <th>min</th>\n",
       "      <td>0.000000</td>\n",
       "      <td>7.670000e+02</td>\n",
       "      <td>0.000000</td>\n",
       "      <td>0.000000e+00</td>\n",
       "      <td>1.000000e+00</td>\n",
       "      <td>1.505696e+18</td>\n",
       "      <td>0.000000</td>\n",
       "      <td>0.000000</td>\n",
       "    </tr>\n",
       "    <tr>\n",
       "      <th>25%</th>\n",
       "      <td>113317.250000</td>\n",
       "      <td>2.370204e+08</td>\n",
       "      <td>289.000000</td>\n",
       "      <td>1.360000e+02</td>\n",
       "      <td>4.156000e+03</td>\n",
       "      <td>1.505796e+18</td>\n",
       "      <td>2.000000</td>\n",
       "      <td>0.000000</td>\n",
       "    </tr>\n",
       "    <tr>\n",
       "      <th>50%</th>\n",
       "      <td>244877.500000</td>\n",
       "      <td>2.398083e+09</td>\n",
       "      <td>930.000000</td>\n",
       "      <td>5.860000e+02</td>\n",
       "      <td>1.843750e+04</td>\n",
       "      <td>1.505891e+18</td>\n",
       "      <td>83.000000</td>\n",
       "      <td>0.000000</td>\n",
       "    </tr>\n",
       "    <tr>\n",
       "      <th>75%</th>\n",
       "      <td>364060.500000</td>\n",
       "      <td>1.079084e+18</td>\n",
       "      <td>2776.000000</td>\n",
       "      <td>2.209000e+03</td>\n",
       "      <td>6.970450e+04</td>\n",
       "      <td>1.505971e+18</td>\n",
       "      <td>784.000000</td>\n",
       "      <td>0.000000</td>\n",
       "    </tr>\n",
       "    <tr>\n",
       "      <th>max</th>\n",
       "      <td>480518.000000</td>\n",
       "      <td>1.506048e+18</td>\n",
       "      <td>584509.000000</td>\n",
       "      <td>1.762745e+07</td>\n",
       "      <td>4.028093e+06</td>\n",
       "      <td>1.506058e+18</td>\n",
       "      <td>147396.000000</td>\n",
       "      <td>833.000000</td>\n",
       "    </tr>\n",
       "  </tbody>\n",
       "</table>\n",
       "</div>"
      ],
      "text/plain": [
       "          Unnamed: 0        userid      following     followers   totaltweets  \\\n",
       "count  202118.000000  2.021180e+05  202118.000000  2.021180e+05  2.021180e+05   \n",
       "mean   240254.417815  4.655664e+17    2588.280217  1.353052e+04  7.040705e+04   \n",
       "std    141699.780398  5.951261e+17    8729.091149  2.523111e+05  1.594965e+05   \n",
       "min         0.000000  7.670000e+02       0.000000  0.000000e+00  1.000000e+00   \n",
       "25%    113317.250000  2.370204e+08     289.000000  1.360000e+02  4.156000e+03   \n",
       "50%    244877.500000  2.398083e+09     930.000000  5.860000e+02  1.843750e+04   \n",
       "75%    364060.500000  1.079084e+18    2776.000000  2.209000e+03  6.970450e+04   \n",
       "max    480518.000000  1.506048e+18  584509.000000  1.762745e+07  4.028093e+06   \n",
       "\n",
       "            tweetid   retweetcount  favorite_count  \n",
       "count  2.021180e+05  202118.000000   202118.000000  \n",
       "mean   1.505884e+18    1331.018316        0.204791  \n",
       "std    1.035248e+14    3813.243498        4.397205  \n",
       "min    1.505696e+18       0.000000        0.000000  \n",
       "25%    1.505796e+18       2.000000        0.000000  \n",
       "50%    1.505891e+18      83.000000        0.000000  \n",
       "75%    1.505971e+18     784.000000        0.000000  \n",
       "max    1.506058e+18  147396.000000      833.000000  "
      ]
     },
     "execution_count": 60,
     "metadata": {},
     "output_type": "execute_result"
    }
   ],
   "source": [
    "mar21.describe()"
   ]
  },
  {
   "cell_type": "code",
   "execution_count": 61,
   "id": "76179c89",
   "metadata": {},
   "outputs": [
    {
     "data": {
      "text/html": [
       "<div>\n",
       "<style scoped>\n",
       "    .dataframe tbody tr th:only-of-type {\n",
       "        vertical-align: middle;\n",
       "    }\n",
       "\n",
       "    .dataframe tbody tr th {\n",
       "        vertical-align: top;\n",
       "    }\n",
       "\n",
       "    .dataframe thead th {\n",
       "        text-align: right;\n",
       "    }\n",
       "</style>\n",
       "<table border=\"1\" class=\"dataframe\">\n",
       "  <thead>\n",
       "    <tr style=\"text-align: right;\">\n",
       "      <th></th>\n",
       "      <th>Unnamed: 0</th>\n",
       "      <th>userid</th>\n",
       "      <th>following</th>\n",
       "      <th>followers</th>\n",
       "      <th>totaltweets</th>\n",
       "      <th>tweetid</th>\n",
       "      <th>retweetcount</th>\n",
       "      <th>favorite_count</th>\n",
       "    </tr>\n",
       "  </thead>\n",
       "  <tbody>\n",
       "    <tr>\n",
       "      <th>count</th>\n",
       "      <td>138519.000000</td>\n",
       "      <td>1.385190e+05</td>\n",
       "      <td>138519.000000</td>\n",
       "      <td>1.385190e+05</td>\n",
       "      <td>1.385190e+05</td>\n",
       "      <td>1.385190e+05</td>\n",
       "      <td>138519.000000</td>\n",
       "      <td>138519.000000</td>\n",
       "    </tr>\n",
       "    <tr>\n",
       "      <th>mean</th>\n",
       "      <td>170118.390654</td>\n",
       "      <td>5.050854e+17</td>\n",
       "      <td>2747.861052</td>\n",
       "      <td>1.735736e+04</td>\n",
       "      <td>7.400535e+04</td>\n",
       "      <td>1.509510e+18</td>\n",
       "      <td>705.035721</td>\n",
       "      <td>0.386077</td>\n",
       "    </tr>\n",
       "    <tr>\n",
       "      <th>std</th>\n",
       "      <td>101469.136867</td>\n",
       "      <td>6.124431e+17</td>\n",
       "      <td>8826.745439</td>\n",
       "      <td>3.049225e+05</td>\n",
       "      <td>1.768756e+05</td>\n",
       "      <td>1.006657e+14</td>\n",
       "      <td>2633.907428</td>\n",
       "      <td>7.823980</td>\n",
       "    </tr>\n",
       "    <tr>\n",
       "      <th>min</th>\n",
       "      <td>0.000000</td>\n",
       "      <td>2.240000e+02</td>\n",
       "      <td>0.000000</td>\n",
       "      <td>0.000000e+00</td>\n",
       "      <td>1.000000e+00</td>\n",
       "      <td>1.509320e+18</td>\n",
       "      <td>0.000000</td>\n",
       "      <td>0.000000</td>\n",
       "    </tr>\n",
       "    <tr>\n",
       "      <th>25%</th>\n",
       "      <td>81121.000000</td>\n",
       "      <td>2.628277e+08</td>\n",
       "      <td>275.000000</td>\n",
       "      <td>1.430000e+02</td>\n",
       "      <td>4.421000e+03</td>\n",
       "      <td>1.509428e+18</td>\n",
       "      <td>1.000000</td>\n",
       "      <td>0.000000</td>\n",
       "    </tr>\n",
       "    <tr>\n",
       "      <th>50%</th>\n",
       "      <td>170162.000000</td>\n",
       "      <td>2.761651e+09</td>\n",
       "      <td>934.000000</td>\n",
       "      <td>6.360000e+02</td>\n",
       "      <td>1.880900e+04</td>\n",
       "      <td>1.509517e+18</td>\n",
       "      <td>28.000000</td>\n",
       "      <td>0.000000</td>\n",
       "    </tr>\n",
       "    <tr>\n",
       "      <th>75%</th>\n",
       "      <td>257025.000000</td>\n",
       "      <td>1.164169e+18</td>\n",
       "      <td>2833.000000</td>\n",
       "      <td>2.464000e+03</td>\n",
       "      <td>7.150150e+04</td>\n",
       "      <td>1.509595e+18</td>\n",
       "      <td>250.000000</td>\n",
       "      <td>0.000000</td>\n",
       "    </tr>\n",
       "    <tr>\n",
       "      <th>max</th>\n",
       "      <td>344511.000000</td>\n",
       "      <td>1.509649e+18</td>\n",
       "      <td>581032.000000</td>\n",
       "      <td>1.765915e+07</td>\n",
       "      <td>4.034495e+06</td>\n",
       "      <td>1.509678e+18</td>\n",
       "      <td>147078.000000</td>\n",
       "      <td>1887.000000</td>\n",
       "    </tr>\n",
       "  </tbody>\n",
       "</table>\n",
       "</div>"
      ],
      "text/plain": [
       "          Unnamed: 0        userid      following     followers   totaltweets  \\\n",
       "count  138519.000000  1.385190e+05  138519.000000  1.385190e+05  1.385190e+05   \n",
       "mean   170118.390654  5.050854e+17    2747.861052  1.735736e+04  7.400535e+04   \n",
       "std    101469.136867  6.124431e+17    8826.745439  3.049225e+05  1.768756e+05   \n",
       "min         0.000000  2.240000e+02       0.000000  0.000000e+00  1.000000e+00   \n",
       "25%     81121.000000  2.628277e+08     275.000000  1.430000e+02  4.421000e+03   \n",
       "50%    170162.000000  2.761651e+09     934.000000  6.360000e+02  1.880900e+04   \n",
       "75%    257025.000000  1.164169e+18    2833.000000  2.464000e+03  7.150150e+04   \n",
       "max    344511.000000  1.509649e+18  581032.000000  1.765915e+07  4.034495e+06   \n",
       "\n",
       "            tweetid   retweetcount  favorite_count  \n",
       "count  1.385190e+05  138519.000000   138519.000000  \n",
       "mean   1.509510e+18     705.035721        0.386077  \n",
       "std    1.006657e+14    2633.907428        7.823980  \n",
       "min    1.509320e+18       0.000000        0.000000  \n",
       "25%    1.509428e+18       1.000000        0.000000  \n",
       "50%    1.509517e+18      28.000000        0.000000  \n",
       "75%    1.509595e+18     250.000000        0.000000  \n",
       "max    1.509678e+18  147078.000000     1887.000000  "
      ]
     },
     "execution_count": 61,
     "metadata": {},
     "output_type": "execute_result"
    }
   ],
   "source": [
    "mar31.describe()"
   ]
  },
  {
   "cell_type": "code",
   "execution_count": 50,
   "id": "a6fb8548",
   "metadata": {},
   "outputs": [
    {
     "name": "stdout",
     "output_type": "stream",
     "text": [
      "<class 'pandas.core.frame.DataFrame'>\n",
      "Int64Index: 202118 entries, 0 to 480518\n",
      "Data columns (total 18 columns):\n",
      " #   Column          Non-Null Count   Dtype \n",
      "---  ------          --------------   ----- \n",
      " 0   Unnamed: 0      202118 non-null  int64 \n",
      " 1   userid          202118 non-null  int64 \n",
      " 2   username        202118 non-null  object\n",
      " 3   acctdesc        181645 non-null  object\n",
      " 4   location        202118 non-null  object\n",
      " 5   following       202118 non-null  int64 \n",
      " 6   followers       202118 non-null  int64 \n",
      " 7   totaltweets     202118 non-null  int64 \n",
      " 8   usercreatedts   202118 non-null  object\n",
      " 9   tweetid         202118 non-null  int64 \n",
      " 10  tweetcreatedts  202118 non-null  object\n",
      " 11  retweetcount    202118 non-null  int64 \n",
      " 12  text            202118 non-null  object\n",
      " 13  hashtags        202118 non-null  object\n",
      " 14  language        202118 non-null  object\n",
      " 15  coordinates     21 non-null      object\n",
      " 16  favorite_count  202118 non-null  int64 \n",
      " 17  extractedts     202118 non-null  object\n",
      "dtypes: int64(8), object(10)\n",
      "memory usage: 29.3+ MB\n"
     ]
    }
   ],
   "source": [
    "mar21.info()"
   ]
  },
  {
   "cell_type": "code",
   "execution_count": 51,
   "id": "d3c29275",
   "metadata": {},
   "outputs": [
    {
     "name": "stdout",
     "output_type": "stream",
     "text": [
      "<class 'pandas.core.frame.DataFrame'>\n",
      "Int64Index: 138519 entries, 0 to 344511\n",
      "Data columns (total 18 columns):\n",
      " #   Column          Non-Null Count   Dtype \n",
      "---  ------          --------------   ----- \n",
      " 0   Unnamed: 0      138519 non-null  int64 \n",
      " 1   userid          138519 non-null  int64 \n",
      " 2   username        138519 non-null  object\n",
      " 3   acctdesc        125883 non-null  object\n",
      " 4   location        138519 non-null  object\n",
      " 5   following       138519 non-null  int64 \n",
      " 6   followers       138519 non-null  int64 \n",
      " 7   totaltweets     138519 non-null  int64 \n",
      " 8   usercreatedts   138519 non-null  object\n",
      " 9   tweetid         138519 non-null  int64 \n",
      " 10  tweetcreatedts  138519 non-null  object\n",
      " 11  retweetcount    138519 non-null  int64 \n",
      " 12  text            138519 non-null  object\n",
      " 13  hashtags        138519 non-null  object\n",
      " 14  language        138519 non-null  object\n",
      " 15  coordinates     18 non-null      object\n",
      " 16  favorite_count  138519 non-null  int64 \n",
      " 17  extractedts     138519 non-null  object\n",
      "dtypes: int64(8), object(10)\n",
      "memory usage: 20.1+ MB\n"
     ]
    }
   ],
   "source": [
    "mar31.info()"
   ]
  },
  {
   "cell_type": "code",
   "execution_count": 55,
   "id": "59f6cebf",
   "metadata": {},
   "outputs": [
    {
     "name": "stdout",
     "output_type": "stream",
     "text": [
      "Index(['Unnamed: 0', 'userid', 'username', 'acctdesc', 'location', 'following',\n",
      "       'followers', 'totaltweets', 'usercreatedts', 'tweetid',\n",
      "       'tweetcreatedts', 'retweetcount', 'text', 'hashtags', 'language',\n",
      "       'coordinates', 'favorite_count', 'extractedts'],\n",
      "      dtype='object')\n",
      "Index(['Unnamed: 0', 'userid', 'username', 'acctdesc', 'location', 'following',\n",
      "       'followers', 'totaltweets', 'usercreatedts', 'tweetid',\n",
      "       'tweetcreatedts', 'retweetcount', 'text', 'hashtags', 'language',\n",
      "       'coordinates', 'favorite_count', 'extractedts'],\n",
      "      dtype='object')\n",
      "Index(['Unnamed: 0', 'userid', 'username', 'acctdesc', 'location', 'following',\n",
      "       'followers', 'totaltweets', 'usercreatedts', 'tweetid',\n",
      "       'tweetcreatedts', 'retweetcount', 'text', 'hashtags', 'language',\n",
      "       'coordinates', 'favorite_count', 'extractedts'],\n",
      "      dtype='object')\n"
     ]
    }
   ],
   "source": [
    "print(mar19.columns)\n",
    "print(mar21.columns)\n",
    "print(mar31.columns)"
   ]
  },
  {
   "cell_type": "code",
   "execution_count": 54,
   "id": "5eb34796",
   "metadata": {},
   "outputs": [
    {
     "name": "stdout",
     "output_type": "stream",
     "text": [
      "coordinates       181807\n",
      "acctdesc           18653\n",
      "Unnamed: 0             0\n",
      "tweetcreatedts         0\n",
      "favorite_count         0\n",
      "language               0\n",
      "hashtags               0\n",
      "text                   0\n",
      "retweetcount           0\n",
      "tweetid                0\n",
      "userid                 0\n",
      "usercreatedts          0\n",
      "totaltweets            0\n",
      "followers              0\n",
      "following              0\n",
      "location               0\n",
      "username               0\n",
      "extractedts            0\n",
      "dtype: int64\n",
      "coordinates       202097\n",
      "acctdesc           20473\n",
      "Unnamed: 0             0\n",
      "tweetcreatedts         0\n",
      "favorite_count         0\n",
      "language               0\n",
      "hashtags               0\n",
      "text                   0\n",
      "retweetcount           0\n",
      "tweetid                0\n",
      "userid                 0\n",
      "usercreatedts          0\n",
      "totaltweets            0\n",
      "followers              0\n",
      "following              0\n",
      "location               0\n",
      "username               0\n",
      "extractedts            0\n",
      "dtype: int64\n",
      "coordinates       138501\n",
      "acctdesc           12636\n",
      "Unnamed: 0             0\n",
      "tweetcreatedts         0\n",
      "favorite_count         0\n",
      "language               0\n",
      "hashtags               0\n",
      "text                   0\n",
      "retweetcount           0\n",
      "tweetid                0\n",
      "userid                 0\n",
      "usercreatedts          0\n",
      "totaltweets            0\n",
      "followers              0\n",
      "following              0\n",
      "location               0\n",
      "username               0\n",
      "extractedts            0\n",
      "dtype: int64\n"
     ]
    }
   ],
   "source": [
    "print(mar19.isna().sum().sort_values(ascending=False))\n",
    "print(mar21.isna().sum().sort_values(ascending=False))\n",
    "print(mar31.isna().sum().sort_values(ascending=False))"
   ]
  },
  {
   "cell_type": "markdown",
   "id": "26f7c5d6",
   "metadata": {},
   "source": [
    "* Same as February data, we decide not to drop any columns on March data despite of their null values, because they don't affect the essential columns we use"
   ]
  },
  {
   "cell_type": "markdown",
   "id": "a2cbd352",
   "metadata": {},
   "source": [
    "## C. Data Exploratory"
   ]
  },
  {
   "cell_type": "markdown",
   "id": "57ec87dd",
   "metadata": {},
   "source": [
    "### C.1. Count Language"
   ]
  },
  {
   "cell_type": "code",
   "execution_count": 102,
   "id": "811a511b",
   "metadata": {},
   "outputs": [
    {
     "name": "stdout",
     "output_type": "stream",
     "text": [
      "en     469126\n",
      "fr      45047\n",
      "es      35028\n",
      "de      31351\n",
      "und     26361\n",
      "        ...  \n",
      "is          8\n",
      "km          7\n",
      "sd          3\n",
      "hy          2\n",
      "dv          1\n",
      "Name: language, Length: 63, dtype: int64\n",
      "en     319824\n",
      "fr      19702\n",
      "und     19353\n",
      "de      17988\n",
      "it      17183\n",
      "        ...  \n",
      "ps          3\n",
      "lo          2\n",
      "hy          2\n",
      "sd          2\n",
      "ug          1\n",
      "Name: language, Length: 64, dtype: int64\n",
      "en     345589\n",
      "de      20608\n",
      "fr      19763\n",
      "it      19739\n",
      "und     19008\n",
      "        ...  \n",
      "sd          2\n",
      "ckb         2\n",
      "km          2\n",
      "lo          1\n",
      "ug          1\n",
      "Name: language, Length: 64, dtype: int64\n",
      "en     234857\n",
      "de      17210\n",
      "it      17207\n",
      "fr      14803\n",
      "es      14096\n",
      "und     13829\n",
      "uk       6483\n",
      "ru       4118\n",
      "pl       3228\n",
      "tr       2158\n",
      "ja       1966\n",
      "nl       1926\n",
      "hi       1459\n",
      "ar       1194\n",
      "fi       1060\n",
      "zh        853\n",
      "pt        842\n",
      "el        838\n",
      "th        699\n",
      "lt        636\n",
      "in        629\n",
      "cs        592\n",
      "ca        501\n",
      "lv        327\n",
      "da        281\n",
      "ro        275\n",
      "sv        261\n",
      "ur        254\n",
      "et        216\n",
      "tl        198\n",
      "fa        178\n",
      "sl        165\n",
      "ta        160\n",
      "ht        115\n",
      "ko        105\n",
      "no         96\n",
      "cy         91\n",
      "gu         87\n",
      "bn         73\n",
      "vi         63\n",
      "iw         52\n",
      "te         40\n",
      "eu         39\n",
      "mr         34\n",
      "kn         28\n",
      "bg         27\n",
      "pa         22\n",
      "or         19\n",
      "sr         18\n",
      "ka         17\n",
      "ml         16\n",
      "ps         13\n",
      "hu         13\n",
      "am         13\n",
      "ckb         9\n",
      "ne          9\n",
      "is          6\n",
      "my          6\n",
      "hy          3\n",
      "si          2\n",
      "Name: language, dtype: int64\n"
     ]
    }
   ],
   "source": [
    "# Count Language\n",
    "print(feb_1.language.value_counts())\n",
    "print(mar19_1.language.value_counts())\n",
    "print(mar21_1.language.value_counts())\n",
    "print(mar31_1.language.value_counts())"
   ]
  },
  {
   "cell_type": "markdown",
   "id": "975f1d99",
   "metadata": {},
   "source": [
    "### C.2. Plotting Language Based on Count"
   ]
  },
  {
   "cell_type": "code",
   "execution_count": 73,
   "id": "43a4e856",
   "metadata": {},
   "outputs": [
    {
     "data": {
      "text/plain": [
       "<AxesSubplot:ylabel='language'>"
      ]
     },
     "execution_count": 73,
     "metadata": {},
     "output_type": "execute_result"
    },
    {
     "data": {
      "image/png": "[encoded data removed]",
      "text/plain": [
       "<Figure size 432x288 with 1 Axes>"
      ]
     },
     "metadata": {
      "needs_background": "light"
     },
     "output_type": "display_data"
    }
   ],
   "source": [
    "# Plotting Language Based on Count\n",
    "import seaborn as sns\n",
    "\n",
    "sns.barplot(x= feb_1.language.value_counts()[:20].index,y=feb_1.language.value_counts()[:20])"
   ]
  },
  {
   "cell_type": "code",
   "execution_count": 74,
   "id": "2a4340a7",
   "metadata": {},
   "outputs": [
    {
     "data": {
      "text/plain": [
       "<AxesSubplot:ylabel='language'>"
      ]
     },
     "execution_count": 74,
     "metadata": {},
     "output_type": "execute_result"
    },
    {
     "data": {
      "image/png": "[encoded data removed]",
      "text/plain": [
       "<Figure size 432x288 with 1 Axes>"
      ]
     },
     "metadata": {
      "needs_background": "light"
     },
     "output_type": "display_data"
    }
   ],
   "source": [
    "sns.barplot(x= mar19_1.language.value_counts()[:20].index,y=mar19_1.language.value_counts()[:20])"
   ]
  },
  {
   "cell_type": "code",
   "execution_count": 75,
   "id": "166195cb",
   "metadata": {},
   "outputs": [
    {
     "data": {
      "text/plain": [
       "<AxesSubplot:ylabel='language'>"
      ]
     },
     "execution_count": 75,
     "metadata": {},
     "output_type": "execute_result"
    },
    {
     "data": {
      "image/png": "[encoded data removed]",
      "text/plain": [
       "<Figure size 432x288 with 1 Axes>"
      ]
     },
     "metadata": {
      "needs_background": "light"
     },
     "output_type": "display_data"
    }
   ],
   "source": [
    "sns.barplot(x= mar21_1.language.value_counts()[:20].index,y=mar21_1.language.value_counts()[:20])"
   ]
  },
  {
   "cell_type": "code",
   "execution_count": 76,
   "id": "5276d451",
   "metadata": {},
   "outputs": [
    {
     "data": {
      "text/plain": [
       "<AxesSubplot:ylabel='language'>"
      ]
     },
     "execution_count": 76,
     "metadata": {},
     "output_type": "execute_result"
    },
    {
     "data": {
      "image/png": "[encoded data removed]",
      "text/plain": [
       "<Figure size 432x288 with 1 Axes>"
      ]
     },
     "metadata": {
      "needs_background": "light"
     },
     "output_type": "display_data"
    }
   ],
   "source": [
    "sns.barplot(x= mar31_1.language.value_counts()[:20].index,y=mar31_1.language.value_counts()[:20])"
   ]
  },
  {
   "cell_type": "markdown",
   "id": "0ab30452",
   "metadata": {},
   "source": [
    "### C.3. Find The Most Retweeted Tweet"
   ]
  },
  {
   "cell_type": "markdown",
   "id": "1cdb7244",
   "metadata": {},
   "source": [
    "#### C.3.1. The Most Retweeted Tweet on February"
   ]
  },
  {
   "cell_type": "code",
   "execution_count": 81,
   "id": "c1efe41f",
   "metadata": {},
   "outputs": [
    {
     "name": "stdout",
     "output_type": "stream",
     "text": [
      ".@ZelenskyyUa's tv address to the Russian (!) people might be the most moving speech that I've ever seen in my entire life. The whole world needs to see, understand and share this crucial Ukrainian message.\n",
      "#StandWithUkraine #Ukraine #Україна #Russia #Россия https://t.co/WoMOgqXTWX\n"
     ]
    }
   ],
   "source": [
    "# Find The Most Retweeted Tweet on February\n",
    "\n",
    "# Sorting the Tweets based on Retweet count\n",
    "sorted_tweets_feb = feb[['username', 'text','retweetcount','tweetid', ]].sort_values(by = 'retweetcount', ascending=False)\n",
    "\n",
    "# The Most Retweeted Tweet\n",
    "most_retweeted_feb = sorted_tweets_feb.iloc[0]\n",
    "print(most_retweeted_feb.text)\n"
   ]
  },
  {
   "cell_type": "code",
   "execution_count": 82,
   "id": "fef5358b",
   "metadata": {},
   "outputs": [
    {
     "data": {
      "text/plain": [
       "1498436817791877121"
      ]
     },
     "execution_count": 82,
     "metadata": {},
     "output_type": "execute_result"
    }
   ],
   "source": [
    "# Find who's tweet ID it is\n",
    "sorted_tweets_feb.tweetid.iloc[0]"
   ]
  },
  {
   "cell_type": "markdown",
   "id": "e5c234a1",
   "metadata": {},
   "source": [
    "* This tweet on February was retweeted by https://twitter.com/takuma_DQX/status/1498436817791877121, which is tweet of @PMoelleken"
   ]
  },
  {
   "cell_type": "code",
   "execution_count": 87,
   "id": "69c5471a",
   "metadata": {},
   "outputs": [
    {
     "data": {
      "text/html": [
       "<div>\n",
       "<style scoped>\n",
       "    .dataframe tbody tr th:only-of-type {\n",
       "        vertical-align: middle;\n",
       "    }\n",
       "\n",
       "    .dataframe tbody tr th {\n",
       "        vertical-align: top;\n",
       "    }\n",
       "\n",
       "    .dataframe thead th {\n",
       "        text-align: right;\n",
       "    }\n",
       "</style>\n",
       "<table border=\"1\" class=\"dataframe\">\n",
       "  <thead>\n",
       "    <tr style=\"text-align: right;\">\n",
       "      <th></th>\n",
       "      <th>username</th>\n",
       "      <th>text</th>\n",
       "      <th>retweetcount</th>\n",
       "      <th>tweetid</th>\n",
       "    </tr>\n",
       "  </thead>\n",
       "  <tbody>\n",
       "    <tr>\n",
       "      <th>137696</th>\n",
       "      <td>takuma_DQX</td>\n",
       "      <td>.@ZelenskyyUa's tv address to the Russian (!) ...</td>\n",
       "      <td>145306</td>\n",
       "      <td>1498436817791877121</td>\n",
       "    </tr>\n",
       "    <tr>\n",
       "      <th>135693</th>\n",
       "      <td>alan_matts</td>\n",
       "      <td>.@ZelenskyyUa's tv address to the Russian (!) ...</td>\n",
       "      <td>145305</td>\n",
       "      <td>1498436314823368704</td>\n",
       "    </tr>\n",
       "    <tr>\n",
       "      <th>132410</th>\n",
       "      <td>pazgarciac</td>\n",
       "      <td>.@ZelenskyyUa's tv address to the Russian (!) ...</td>\n",
       "      <td>145297</td>\n",
       "      <td>1498432857404063744</td>\n",
       "    </tr>\n",
       "    <tr>\n",
       "      <th>133610</th>\n",
       "      <td>Valeria_AUT</td>\n",
       "      <td>.@ZelenskyyUa's tv address to the Russian (!) ...</td>\n",
       "      <td>145296</td>\n",
       "      <td>1498433051570941952</td>\n",
       "    </tr>\n",
       "    <tr>\n",
       "      <th>126017</th>\n",
       "      <td>wasimbaqir</td>\n",
       "      <td>.@ZelenskyyUa's tv address to the Russian (!) ...</td>\n",
       "      <td>145286</td>\n",
       "      <td>1498427875132854272</td>\n",
       "    </tr>\n",
       "    <tr>\n",
       "      <th>126777</th>\n",
       "      <td>akammomotan10</td>\n",
       "      <td>.@ZelenskyyUa's tv address to the Russian (!) ...</td>\n",
       "      <td>145286</td>\n",
       "      <td>1498428381699854338</td>\n",
       "    </tr>\n",
       "    <tr>\n",
       "      <th>125689</th>\n",
       "      <td>adouwes</td>\n",
       "      <td>.@ZelenskyyUa's tv address to the Russian (!) ...</td>\n",
       "      <td>145286</td>\n",
       "      <td>1498427666180890627</td>\n",
       "    </tr>\n",
       "    <tr>\n",
       "      <th>124205</th>\n",
       "      <td>sapphirestorme</td>\n",
       "      <td>.@ZelenskyyUa's tv address to the Russian (!) ...</td>\n",
       "      <td>145276</td>\n",
       "      <td>1498425310685061120</td>\n",
       "    </tr>\n",
       "    <tr>\n",
       "      <th>124190</th>\n",
       "      <td>AnnaCCallahan</td>\n",
       "      <td>.@ZelenskyyUa's tv address to the Russian (!) ...</td>\n",
       "      <td>145276</td>\n",
       "      <td>1498425308029931523</td>\n",
       "    </tr>\n",
       "    <tr>\n",
       "      <th>124416</th>\n",
       "      <td>Virgofolkie</td>\n",
       "      <td>.@ZelenskyyUa's tv address to the Russian (!) ...</td>\n",
       "      <td>145274</td>\n",
       "      <td>1498425364766281732</td>\n",
       "    </tr>\n",
       "  </tbody>\n",
       "</table>\n",
       "</div>"
      ],
      "text/plain": [
       "              username                                               text  \\\n",
       "137696      takuma_DQX  .@ZelenskyyUa's tv address to the Russian (!) ...   \n",
       "135693      alan_matts  .@ZelenskyyUa's tv address to the Russian (!) ...   \n",
       "132410      pazgarciac  .@ZelenskyyUa's tv address to the Russian (!) ...   \n",
       "133610     Valeria_AUT  .@ZelenskyyUa's tv address to the Russian (!) ...   \n",
       "126017      wasimbaqir  .@ZelenskyyUa's tv address to the Russian (!) ...   \n",
       "126777   akammomotan10  .@ZelenskyyUa's tv address to the Russian (!) ...   \n",
       "125689         adouwes  .@ZelenskyyUa's tv address to the Russian (!) ...   \n",
       "124205  sapphirestorme  .@ZelenskyyUa's tv address to the Russian (!) ...   \n",
       "124190   AnnaCCallahan  .@ZelenskyyUa's tv address to the Russian (!) ...   \n",
       "124416     Virgofolkie  .@ZelenskyyUa's tv address to the Russian (!) ...   \n",
       "\n",
       "        retweetcount              tweetid  \n",
       "137696        145306  1498436817791877121  \n",
       "135693        145305  1498436314823368704  \n",
       "132410        145297  1498432857404063744  \n",
       "133610        145296  1498433051570941952  \n",
       "126017        145286  1498427875132854272  \n",
       "126777        145286  1498428381699854338  \n",
       "125689        145286  1498427666180890627  \n",
       "124205        145276  1498425310685061120  \n",
       "124190        145276  1498425308029931523  \n",
       "124416        145274  1498425364766281732  "
      ]
     },
     "execution_count": 87,
     "metadata": {},
     "output_type": "execute_result"
    }
   ],
   "source": [
    "# Top 10 Most Retweeted Tweets on February\n",
    "\n",
    "sorted_tweets_feb.head(10)"
   ]
  },
  {
   "cell_type": "markdown",
   "id": "2a4f0db2",
   "metadata": {},
   "source": [
    "#### C.3.2. The Most Retweeted Tweet on March 19"
   ]
  },
  {
   "cell_type": "code",
   "execution_count": 85,
   "id": "39a05ed8",
   "metadata": {},
   "outputs": [
    {
     "name": "stdout",
     "output_type": "stream",
     "text": [
      ".@ZelenskyyUa's tv address to the Russian (!) people might be the most moving speech that I've ever seen in my entire life. The whole world needs to see, understand and share this crucial Ukrainian message.\n",
      "#StandWithUkraine #Ukraine #Україна #Russia #Россия https://t.co/WoMOgqXTWX\n"
     ]
    }
   ],
   "source": [
    "# Find The Most Retweeted Tweet on March 19\n",
    "\n",
    "# Sorting the Tweets based on Retweet count\n",
    "sorted_tweets_mar19 = mar19[['username', 'text','retweetcount','tweetid', ]].sort_values(by = 'retweetcount', ascending=False)\n",
    "\n",
    "# The Most Retweeted Tweet\n",
    "most_retweeted_mar19 = sorted_tweets_mar19.iloc[0]\n",
    "print(most_retweeted_mar19.text)\n"
   ]
  },
  {
   "cell_type": "code",
   "execution_count": 86,
   "id": "cff0d3fe",
   "metadata": {},
   "outputs": [
    {
     "data": {
      "text/plain": [
       "1504975291302699008"
      ]
     },
     "execution_count": 86,
     "metadata": {},
     "output_type": "execute_result"
    }
   ],
   "source": [
    "# Find who's tweet ID it is\n",
    "sorted_tweets_mar19.tweetid.iloc[0]"
   ]
  },
  {
   "cell_type": "markdown",
   "id": "42f7c104",
   "metadata": {},
   "source": [
    "* This tweet on March 19 was retweeted by https://twitter.com/sylverrock/status/1504975291302699008, which is also tweet of @PMoelleken"
   ]
  },
  {
   "cell_type": "code",
   "execution_count": 88,
   "id": "0a100bc7",
   "metadata": {},
   "outputs": [
    {
     "data": {
      "text/html": [
       "<div>\n",
       "<style scoped>\n",
       "    .dataframe tbody tr th:only-of-type {\n",
       "        vertical-align: middle;\n",
       "    }\n",
       "\n",
       "    .dataframe tbody tr th {\n",
       "        vertical-align: top;\n",
       "    }\n",
       "\n",
       "    .dataframe thead th {\n",
       "        text-align: right;\n",
       "    }\n",
       "</style>\n",
       "<table border=\"1\" class=\"dataframe\">\n",
       "  <thead>\n",
       "    <tr style=\"text-align: right;\">\n",
       "      <th></th>\n",
       "      <th>username</th>\n",
       "      <th>text</th>\n",
       "      <th>retweetcount</th>\n",
       "      <th>tweetid</th>\n",
       "    </tr>\n",
       "  </thead>\n",
       "  <tbody>\n",
       "    <tr>\n",
       "      <th>5435</th>\n",
       "      <td>sylverrock</td>\n",
       "      <td>.@ZelenskyyUa's tv address to the Russian (!) ...</td>\n",
       "      <td>147457</td>\n",
       "      <td>1504975291302699008</td>\n",
       "    </tr>\n",
       "    <tr>\n",
       "      <th>320387</th>\n",
       "      <td>HONGIE_1</td>\n",
       "      <td>.@ZelenskyyUa's tv address to the Russian (!) ...</td>\n",
       "      <td>147443</td>\n",
       "      <td>1505242307204890631</td>\n",
       "    </tr>\n",
       "    <tr>\n",
       "      <th>110961</th>\n",
       "      <td>OleIChristensen</td>\n",
       "      <td>.@ZelenskyyUa's tv address to the Russian (!) ...</td>\n",
       "      <td>147443</td>\n",
       "      <td>1505081657921052673</td>\n",
       "    </tr>\n",
       "    <tr>\n",
       "      <th>102829</th>\n",
       "      <td>Onero811</td>\n",
       "      <td>.@ZelenskyyUa's tv address to the Russian (!) ...</td>\n",
       "      <td>147442</td>\n",
       "      <td>1505074353792331776</td>\n",
       "    </tr>\n",
       "    <tr>\n",
       "      <th>245574</th>\n",
       "      <td>Le_Sian</td>\n",
       "      <td>.@ZelenskyyUa's tv address to the Russian (!) ...</td>\n",
       "      <td>147442</td>\n",
       "      <td>1505185516391645193</td>\n",
       "    </tr>\n",
       "    <tr>\n",
       "      <th>346954</th>\n",
       "      <td>joudimaher</td>\n",
       "      <td>.@ZelenskyyUa's tv address to the Russian (!) ...</td>\n",
       "      <td>147442</td>\n",
       "      <td>1505260978484781061</td>\n",
       "    </tr>\n",
       "    <tr>\n",
       "      <th>5161</th>\n",
       "      <td>winimwil</td>\n",
       "      <td>My daughter and I surviving the night in Ukrai...</td>\n",
       "      <td>107511</td>\n",
       "      <td>1504974858048126976</td>\n",
       "    </tr>\n",
       "    <tr>\n",
       "      <th>49872</th>\n",
       "      <td>DagmarTrewin</td>\n",
       "      <td>My daughter and I surviving the night in Ukrai...</td>\n",
       "      <td>107504</td>\n",
       "      <td>1505019687339323393</td>\n",
       "    </tr>\n",
       "    <tr>\n",
       "      <th>322352</th>\n",
       "      <td>Lthrboot</td>\n",
       "      <td>This, out of #Ukraine, is 100% one of the most...</td>\n",
       "      <td>104303</td>\n",
       "      <td>1505243157025333250</td>\n",
       "    </tr>\n",
       "    <tr>\n",
       "      <th>426037</th>\n",
       "      <td>racing_snake</td>\n",
       "      <td>This, out of #Ukraine, is 100% one of the most...</td>\n",
       "      <td>104301</td>\n",
       "      <td>1505319440673644548</td>\n",
       "    </tr>\n",
       "  </tbody>\n",
       "</table>\n",
       "</div>"
      ],
      "text/plain": [
       "               username                                               text  \\\n",
       "5435         sylverrock  .@ZelenskyyUa's tv address to the Russian (!) ...   \n",
       "320387         HONGIE_1  .@ZelenskyyUa's tv address to the Russian (!) ...   \n",
       "110961  OleIChristensen  .@ZelenskyyUa's tv address to the Russian (!) ...   \n",
       "102829         Onero811  .@ZelenskyyUa's tv address to the Russian (!) ...   \n",
       "245574          Le_Sian  .@ZelenskyyUa's tv address to the Russian (!) ...   \n",
       "346954       joudimaher  .@ZelenskyyUa's tv address to the Russian (!) ...   \n",
       "5161           winimwil  My daughter and I surviving the night in Ukrai...   \n",
       "49872      DagmarTrewin  My daughter and I surviving the night in Ukrai...   \n",
       "322352         Lthrboot  This, out of #Ukraine, is 100% one of the most...   \n",
       "426037     racing_snake  This, out of #Ukraine, is 100% one of the most...   \n",
       "\n",
       "        retweetcount              tweetid  \n",
       "5435          147457  1504975291302699008  \n",
       "320387        147443  1505242307204890631  \n",
       "110961        147443  1505081657921052673  \n",
       "102829        147442  1505074353792331776  \n",
       "245574        147442  1505185516391645193  \n",
       "346954        147442  1505260978484781061  \n",
       "5161          107511  1504974858048126976  \n",
       "49872         107504  1505019687339323393  \n",
       "322352        104303  1505243157025333250  \n",
       "426037        104301  1505319440673644548  "
      ]
     },
     "execution_count": 88,
     "metadata": {},
     "output_type": "execute_result"
    }
   ],
   "source": [
    "# Top 10 Most Retweeted Tweets on March 19\n",
    "\n",
    "sorted_tweets_mar19.head(10)"
   ]
  },
  {
   "cell_type": "markdown",
   "id": "8f1a0e01",
   "metadata": {},
   "source": [
    "#### C.3.3. The Most Retweeted Tweet on March 21"
   ]
  },
  {
   "cell_type": "code",
   "execution_count": 89,
   "id": "84061b2d",
   "metadata": {},
   "outputs": [
    {
     "name": "stdout",
     "output_type": "stream",
     "text": [
      ".@ZelenskyyUa's tv address to the Russian (!) people might be the most moving speech that I've ever seen in my entire life. The whole world needs to see, understand and share this crucial Ukrainian message.\n",
      "#StandWithUkraine #Ukraine #Україна #Russia #Россия https://t.co/WoMOgqXTWX\n"
     ]
    }
   ],
   "source": [
    "# Find The Most Retweeted Tweet on March 21\n",
    "\n",
    "# Sorting the Tweets based on Retweet count\n",
    "sorted_tweets_mar21 = mar21[['username', 'text','retweetcount','tweetid', ]].sort_values(by = 'retweetcount', ascending=False)\n",
    "\n",
    "# The Most Retweeted Tweet\n",
    "most_retweeted_mar21 = sorted_tweets_mar21.iloc[0]\n",
    "print(most_retweeted_mar21.text)\n"
   ]
  },
  {
   "cell_type": "code",
   "execution_count": 90,
   "id": "9fa0131e",
   "metadata": {},
   "outputs": [
    {
     "data": {
      "text/plain": [
       "1505865159671263234"
      ]
     },
     "execution_count": 90,
     "metadata": {},
     "output_type": "execute_result"
    }
   ],
   "source": [
    "# Find who's tweet ID it is\n",
    "sorted_tweets_mar21.tweetid.iloc[0]"
   ]
  },
  {
   "cell_type": "markdown",
   "id": "ee380eed",
   "metadata": {},
   "source": [
    "* This tweet on March 21 was retweeted by https://twitter.com/artist259/status/1505865159671263234, which is also tweet of @PMoelleken"
   ]
  },
  {
   "cell_type": "code",
   "execution_count": 91,
   "id": "854255a4",
   "metadata": {},
   "outputs": [
    {
     "data": {
      "text/html": [
       "<div>\n",
       "<style scoped>\n",
       "    .dataframe tbody tr th:only-of-type {\n",
       "        vertical-align: middle;\n",
       "    }\n",
       "\n",
       "    .dataframe tbody tr th {\n",
       "        vertical-align: top;\n",
       "    }\n",
       "\n",
       "    .dataframe thead th {\n",
       "        text-align: right;\n",
       "    }\n",
       "</style>\n",
       "<table border=\"1\" class=\"dataframe\">\n",
       "  <thead>\n",
       "    <tr style=\"text-align: right;\">\n",
       "      <th></th>\n",
       "      <th>username</th>\n",
       "      <th>text</th>\n",
       "      <th>retweetcount</th>\n",
       "      <th>tweetid</th>\n",
       "    </tr>\n",
       "  </thead>\n",
       "  <tbody>\n",
       "    <tr>\n",
       "      <th>207449</th>\n",
       "      <td>artist259</td>\n",
       "      <td>.@ZelenskyyUa's tv address to the Russian (!) ...</td>\n",
       "      <td>147396</td>\n",
       "      <td>1505865159671263234</td>\n",
       "    </tr>\n",
       "    <tr>\n",
       "      <th>207408</th>\n",
       "      <td>peachycaffeine</td>\n",
       "      <td>.@ZelenskyyUa's tv address to the Russian (!) ...</td>\n",
       "      <td>147396</td>\n",
       "      <td>1505865139811143680</td>\n",
       "    </tr>\n",
       "    <tr>\n",
       "      <th>341434</th>\n",
       "      <td>scunner69</td>\n",
       "      <td>.@ZelenskyyUa's tv address to the Russian (!) ...</td>\n",
       "      <td>147385</td>\n",
       "      <td>1505955698466865153</td>\n",
       "    </tr>\n",
       "    <tr>\n",
       "      <th>377164</th>\n",
       "      <td>mud2guard</td>\n",
       "      <td>.@ZelenskyyUa's tv address to the Russian (!) ...</td>\n",
       "      <td>147383</td>\n",
       "      <td>1505980744744775682</td>\n",
       "    </tr>\n",
       "    <tr>\n",
       "      <th>412069</th>\n",
       "      <td>TomTom62715945</td>\n",
       "      <td>.@ZelenskyyUa's tv address to the Russian (!) ...</td>\n",
       "      <td>147382</td>\n",
       "      <td>1506005617445642242</td>\n",
       "    </tr>\n",
       "    <tr>\n",
       "      <th>398167</th>\n",
       "      <td>alexis_wendt</td>\n",
       "      <td>.@ZelenskyyUa's tv address to the Russian (!) ...</td>\n",
       "      <td>147382</td>\n",
       "      <td>1505995097690845189</td>\n",
       "    </tr>\n",
       "    <tr>\n",
       "      <th>431282</th>\n",
       "      <td>DohertyPattie</td>\n",
       "      <td>.@ZelenskyyUa's tv address to the Russian (!) ...</td>\n",
       "      <td>147382</td>\n",
       "      <td>1506019915311972352</td>\n",
       "    </tr>\n",
       "    <tr>\n",
       "      <th>430688</th>\n",
       "      <td>MagPR4</td>\n",
       "      <td>.@ZelenskyyUa's tv address to the Russian (!) ...</td>\n",
       "      <td>147382</td>\n",
       "      <td>1506019637548711938</td>\n",
       "    </tr>\n",
       "    <tr>\n",
       "      <th>174719</th>\n",
       "      <td>ThePillarSaints</td>\n",
       "      <td>My daughter and I surviving the night in Ukrai...</td>\n",
       "      <td>107475</td>\n",
       "      <td>1505841133426921473</td>\n",
       "    </tr>\n",
       "    <tr>\n",
       "      <th>197258</th>\n",
       "      <td>CahyadiAnsyar</td>\n",
       "      <td>My daughter and I surviving the night in Ukrai...</td>\n",
       "      <td>107475</td>\n",
       "      <td>1505857558921179136</td>\n",
       "    </tr>\n",
       "  </tbody>\n",
       "</table>\n",
       "</div>"
      ],
      "text/plain": [
       "               username                                               text  \\\n",
       "207449        artist259  .@ZelenskyyUa's tv address to the Russian (!) ...   \n",
       "207408   peachycaffeine  .@ZelenskyyUa's tv address to the Russian (!) ...   \n",
       "341434        scunner69  .@ZelenskyyUa's tv address to the Russian (!) ...   \n",
       "377164        mud2guard  .@ZelenskyyUa's tv address to the Russian (!) ...   \n",
       "412069   TomTom62715945  .@ZelenskyyUa's tv address to the Russian (!) ...   \n",
       "398167     alexis_wendt  .@ZelenskyyUa's tv address to the Russian (!) ...   \n",
       "431282    DohertyPattie  .@ZelenskyyUa's tv address to the Russian (!) ...   \n",
       "430688           MagPR4  .@ZelenskyyUa's tv address to the Russian (!) ...   \n",
       "174719  ThePillarSaints  My daughter and I surviving the night in Ukrai...   \n",
       "197258    CahyadiAnsyar  My daughter and I surviving the night in Ukrai...   \n",
       "\n",
       "        retweetcount              tweetid  \n",
       "207449        147396  1505865159671263234  \n",
       "207408        147396  1505865139811143680  \n",
       "341434        147385  1505955698466865153  \n",
       "377164        147383  1505980744744775682  \n",
       "412069        147382  1506005617445642242  \n",
       "398167        147382  1505995097690845189  \n",
       "431282        147382  1506019915311972352  \n",
       "430688        147382  1506019637548711938  \n",
       "174719        107475  1505841133426921473  \n",
       "197258        107475  1505857558921179136  "
      ]
     },
     "execution_count": 91,
     "metadata": {},
     "output_type": "execute_result"
    }
   ],
   "source": [
    "# Top 10 Most Retweeted Tweets on March 21\n",
    "\n",
    "sorted_tweets_mar21.head(10)"
   ]
  },
  {
   "cell_type": "markdown",
   "id": "dd16ac63",
   "metadata": {},
   "source": [
    "#### C.3.4. The Most Retweeted Tweet on March 31"
   ]
  },
  {
   "cell_type": "code",
   "execution_count": 92,
   "id": "75e76e24",
   "metadata": {},
   "outputs": [
    {
     "name": "stdout",
     "output_type": "stream",
     "text": [
      ".@ZelenskyyUa's tv address to the Russian (!) people might be the most moving speech that I've ever seen in my entire life. The whole world needs to see, understand and share this crucial Ukrainian message.\n",
      "#StandWithUkraine #Ukraine #Україна #Russia #Россия https://t.co/WoMOgqXTWX\n"
     ]
    }
   ],
   "source": [
    "# Find The Most Retweeted Tweet on March 31\n",
    "\n",
    "# Sorting the Tweets based on Retweet count\n",
    "sorted_tweets_mar31 = mar31[['username', 'text','retweetcount','tweetid', ]].sort_values(by = 'retweetcount', ascending=False)\n",
    "\n",
    "# The Most Retweeted Tweet\n",
    "most_retweeted_mar31 = sorted_tweets_mar31.iloc[0]\n",
    "print(most_retweeted_mar31.text)\n"
   ]
  },
  {
   "cell_type": "code",
   "execution_count": 93,
   "id": "fb1c5002",
   "metadata": {},
   "outputs": [
    {
     "data": {
      "text/plain": [
       "1509526929237368833"
      ]
     },
     "execution_count": 93,
     "metadata": {},
     "output_type": "execute_result"
    }
   ],
   "source": [
    "# Find who's tweet ID it is\n",
    "sorted_tweets_mar31.tweetid.iloc[0]"
   ]
  },
  {
   "cell_type": "markdown",
   "id": "bec21b36",
   "metadata": {},
   "source": [
    "* This tweet on March 31 was retweeted by https://twitter.com/ArcticDag/status/1509526929237368833, which is also tweet of @PMoelleken"
   ]
  },
  {
   "cell_type": "code",
   "execution_count": 94,
   "id": "23d44387",
   "metadata": {},
   "outputs": [
    {
     "data": {
      "text/html": [
       "<div>\n",
       "<style scoped>\n",
       "    .dataframe tbody tr th:only-of-type {\n",
       "        vertical-align: middle;\n",
       "    }\n",
       "\n",
       "    .dataframe tbody tr th {\n",
       "        vertical-align: top;\n",
       "    }\n",
       "\n",
       "    .dataframe thead th {\n",
       "        text-align: right;\n",
       "    }\n",
       "</style>\n",
       "<table border=\"1\" class=\"dataframe\">\n",
       "  <thead>\n",
       "    <tr style=\"text-align: right;\">\n",
       "      <th></th>\n",
       "      <th>username</th>\n",
       "      <th>text</th>\n",
       "      <th>retweetcount</th>\n",
       "      <th>tweetid</th>\n",
       "    </tr>\n",
       "  </thead>\n",
       "  <tbody>\n",
       "    <tr>\n",
       "      <th>181633</th>\n",
       "      <td>ArcticDag</td>\n",
       "      <td>.@ZelenskyyUa's tv address to the Russian (!) ...</td>\n",
       "      <td>147078</td>\n",
       "      <td>1509526929237368833</td>\n",
       "    </tr>\n",
       "    <tr>\n",
       "      <th>179276</th>\n",
       "      <td>ChocolateMuzz</td>\n",
       "      <td>.@ZelenskyyUa's tv address to the Russian (!) ...</td>\n",
       "      <td>147076</td>\n",
       "      <td>1509525448702767104</td>\n",
       "    </tr>\n",
       "    <tr>\n",
       "      <th>56770</th>\n",
       "      <td>chiubei</td>\n",
       "      <td>.@ZelenskyyUa's tv address to the Russian (!) ...</td>\n",
       "      <td>147074</td>\n",
       "      <td>1509401146318012417</td>\n",
       "    </tr>\n",
       "    <tr>\n",
       "      <th>104984</th>\n",
       "      <td>pirajastig</td>\n",
       "      <td>.@ZelenskyyUa's tv address to the Russian (!) ...</td>\n",
       "      <td>147074</td>\n",
       "      <td>1509452849083830278</td>\n",
       "    </tr>\n",
       "    <tr>\n",
       "      <th>258337</th>\n",
       "      <td>asfoe</td>\n",
       "      <td>.@ZelenskyyUa's tv address to the Russian (!) ...</td>\n",
       "      <td>147072</td>\n",
       "      <td>1509595964474273793</td>\n",
       "    </tr>\n",
       "    <tr>\n",
       "      <th>270875</th>\n",
       "      <td>deb_debmcb</td>\n",
       "      <td>.@ZelenskyyUa's tv address to the Russian (!) ...</td>\n",
       "      <td>147071</td>\n",
       "      <td>1509606641540517890</td>\n",
       "    </tr>\n",
       "    <tr>\n",
       "      <th>82077</th>\n",
       "      <td>Adam69969177</td>\n",
       "      <td>My daughter and I surviving the night in Ukrai...</td>\n",
       "      <td>107256</td>\n",
       "      <td>1509429302152073217</td>\n",
       "    </tr>\n",
       "    <tr>\n",
       "      <th>219850</th>\n",
       "      <td>reuben_morga</td>\n",
       "      <td>My daughter and I surviving the night in Ukrai...</td>\n",
       "      <td>107252</td>\n",
       "      <td>1509562861445599241</td>\n",
       "    </tr>\n",
       "    <tr>\n",
       "      <th>244960</th>\n",
       "      <td>ManouDW</td>\n",
       "      <td>My daughter and I surviving the night in Ukrai...</td>\n",
       "      <td>107250</td>\n",
       "      <td>1509584210117287988</td>\n",
       "    </tr>\n",
       "    <tr>\n",
       "      <th>74924</th>\n",
       "      <td>DavidGibson604</td>\n",
       "      <td>This, out of #Ukraine, is 100% one of the most...</td>\n",
       "      <td>104438</td>\n",
       "      <td>1509422391864139776</td>\n",
       "    </tr>\n",
       "  </tbody>\n",
       "</table>\n",
       "</div>"
      ],
      "text/plain": [
       "              username                                               text  \\\n",
       "181633       ArcticDag  .@ZelenskyyUa's tv address to the Russian (!) ...   \n",
       "179276   ChocolateMuzz  .@ZelenskyyUa's tv address to the Russian (!) ...   \n",
       "56770          chiubei  .@ZelenskyyUa's tv address to the Russian (!) ...   \n",
       "104984      pirajastig  .@ZelenskyyUa's tv address to the Russian (!) ...   \n",
       "258337           asfoe  .@ZelenskyyUa's tv address to the Russian (!) ...   \n",
       "270875      deb_debmcb  .@ZelenskyyUa's tv address to the Russian (!) ...   \n",
       "82077     Adam69969177  My daughter and I surviving the night in Ukrai...   \n",
       "219850    reuben_morga  My daughter and I surviving the night in Ukrai...   \n",
       "244960         ManouDW  My daughter and I surviving the night in Ukrai...   \n",
       "74924   DavidGibson604  This, out of #Ukraine, is 100% one of the most...   \n",
       "\n",
       "        retweetcount              tweetid  \n",
       "181633        147078  1509526929237368833  \n",
       "179276        147076  1509525448702767104  \n",
       "56770         147074  1509401146318012417  \n",
       "104984        147074  1509452849083830278  \n",
       "258337        147072  1509595964474273793  \n",
       "270875        147071  1509606641540517890  \n",
       "82077         107256  1509429302152073217  \n",
       "219850        107252  1509562861445599241  \n",
       "244960        107250  1509584210117287988  \n",
       "74924         104438  1509422391864139776  "
      ]
     },
     "execution_count": 94,
     "metadata": {},
     "output_type": "execute_result"
    }
   ],
   "source": [
    "# Top 10 Most Retweeted Tweets on March 31\n",
    "\n",
    "sorted_tweets_mar31.head(10)"
   ]
  },
  {
   "cell_type": "markdown",
   "id": "6fe5490e",
   "metadata": {},
   "source": [
    "### C.4. Making WordCloud to Find The Most Tweeted Word"
   ]
  },
  {
   "cell_type": "code",
   "execution_count": 96,
   "id": "0fb093d4",
   "metadata": {},
   "outputs": [],
   "source": [
    "import matplotlib.pyplot as plt\n",
    "from wordcloud import WordCloud, STOPWORDS, ImageColorGenerator\n",
    "stopwords_set = set(STOPWORDS)"
   ]
  },
  {
   "cell_type": "markdown",
   "id": "4336cf0c",
   "metadata": {},
   "source": [
    "#### C.4.1. WordCloud of February Data"
   ]
  },
  {
   "cell_type": "code",
   "execution_count": 97,
   "id": "a02da19f",
   "metadata": {
    "scrolled": true
   },
   "outputs": [
    {
     "name": "stdout",
     "output_type": "stream",
     "text": [
      "<wordcloud.wordcloud.WordCloud object at 0x7fcbd50b7400>\n"
     ]
    },
    {
     "data": {
      "image/png": "[encoded data removed]",
      "text/plain": [
       "<Figure size 432x288 with 1 Axes>"
      ]
     },
     "metadata": {
      "needs_background": "light"
     },
     "output_type": "display_data"
    }
   ],
   "source": [
    "wordcloud_feb = WordCloud(background_color='white',\n",
    "                     stopwords = stopwords_set,\n",
    "                      max_words = 300,\n",
    "                      max_font_size = 40,\n",
    "                      scale = 2,\n",
    "                      random_state=42\n",
    "                     ).generate(str(sorted_tweets_feb['text']))\n",
    "\n",
    "print(wordcloud_feb)\n",
    "plt.imshow(wordcloud_feb)\n",
    "plt.axis('off')\n",
    "plt.show()"
   ]
  },
  {
   "cell_type": "markdown",
   "id": "5c272b50",
   "metadata": {},
   "source": [
    "#### C.4.2. WordCloud of March 19 Data"
   ]
  },
  {
   "cell_type": "code",
   "execution_count": 98,
   "id": "245c0718",
   "metadata": {},
   "outputs": [
    {
     "name": "stdout",
     "output_type": "stream",
     "text": [
      "<wordcloud.wordcloud.WordCloud object at 0x7fcbd44be940>\n"
     ]
    },
    {
     "data": {
      "image/png": "[encoded data removed]",
      "text/plain": [
       "<Figure size 432x288 with 1 Axes>"
      ]
     },
     "metadata": {
      "needs_background": "light"
     },
     "output_type": "display_data"
    }
   ],
   "source": [
    "wordcloud_mar19 = WordCloud(background_color='white',\n",
    "                     stopwords = stopwords_set,\n",
    "                      max_words = 300,\n",
    "                      max_font_size = 40,\n",
    "                      scale = 2,\n",
    "                      random_state=42\n",
    "                     ).generate(str(sorted_tweets_mar19['text']))\n",
    "\n",
    "print(wordcloud_mar19)\n",
    "plt.imshow(wordcloud_mar19)\n",
    "plt.axis('off')\n",
    "plt.show()"
   ]
  },
  {
   "cell_type": "markdown",
   "id": "286fbd2c",
   "metadata": {},
   "source": [
    "#### C.4.3. WordCloud of March 21 Data"
   ]
  },
  {
   "cell_type": "code",
   "execution_count": 99,
   "id": "f7678810",
   "metadata": {},
   "outputs": [
    {
     "name": "stdout",
     "output_type": "stream",
     "text": [
      "<wordcloud.wordcloud.WordCloud object at 0x7fcbd44bef10>\n"
     ]
    },
    {
     "data": {
      "image/png": "[encoded data removed]",
      "text/plain": [
       "<Figure size 432x288 with 1 Axes>"
      ]
     },
     "metadata": {
      "needs_background": "light"
     },
     "output_type": "display_data"
    }
   ],
   "source": [
    "wordcloud_mar21 = WordCloud(background_color='white',\n",
    "                     stopwords = stopwords_set,\n",
    "                      max_words = 300,\n",
    "                      max_font_size = 40,\n",
    "                      scale = 2,\n",
    "                      random_state=42\n",
    "                     ).generate(str(sorted_tweets_mar21['text']))\n",
    "\n",
    "print(wordcloud_mar21)\n",
    "plt.imshow(wordcloud_mar21)\n",
    "plt.axis('off')\n",
    "plt.show()"
   ]
  },
  {
   "cell_type": "markdown",
   "id": "e57cca1e",
   "metadata": {},
   "source": [
    "#### C.4.4. WordCloud of March 31 Data"
   ]
  },
  {
   "cell_type": "code",
   "execution_count": 100,
   "id": "1a9d148f",
   "metadata": {},
   "outputs": [
    {
     "name": "stdout",
     "output_type": "stream",
     "text": [
      "<wordcloud.wordcloud.WordCloud object at 0x7fcbd68199d0>\n"
     ]
    },
    {
     "data": {
      "image/png": "[encoded data removed]",
      "text/plain": [
       "<Figure size 432x288 with 1 Axes>"
      ]
     },
     "metadata": {
      "needs_background": "light"
     },
     "output_type": "display_data"
    }
   ],
   "source": [
    "wordcloud_mar31 = WordCloud(background_color='white',\n",
    "                     stopwords = stopwords_set,\n",
    "                      max_words = 300,\n",
    "                      max_font_size = 40,\n",
    "                      scale = 2,\n",
    "                      random_state=42\n",
    "                     ).generate(str(sorted_tweets_mar31['text']))\n",
    "\n",
    "print(wordcloud_mar31)\n",
    "plt.imshow(wordcloud_mar31)\n",
    "plt.axis('off')\n",
    "plt.show()"
   ]
  }
 ],
 "metadata": {
  "kernelspec": {
   "display_name": "Python 3 (ipykernel)",
   "language": "python",
   "name": "python3"
  },
  "language_info": {
   "codemirror_mode": {
    "name": "ipython",
    "version": 3
   },
   "file_extension": ".py",
   "mimetype": "text/x-python",
   "name": "python",
   "nbconvert_exporter": "python",
   "pygments_lexer": "ipython3",
   "version": "3.9.7"
  }
 },
 "nbformat": 4,
 "nbformat_minor": 5
}
