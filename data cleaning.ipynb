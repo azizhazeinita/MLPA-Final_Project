{
 "cells": [
  {
   "cell_type": "code",
   "execution_count": 26,
   "id": "a78f6c1e",
   "metadata": {},
   "outputs": [],
   "source": [
    "import numpy as np\n",
    "import pandas as pd\n",
    "import matplotlib.pyplot as plt\n",
    "import seaborn as sns\n",
    "%matplotlib inline"
   ]
  },
  {
   "cell_type": "markdown",
   "id": "3ccad947",
   "metadata": {},
   "source": [
    "# February Data\n",
    "\n",
    "Dates: Feb 27-28"
   ]
  },
  {
   "cell_type": "code",
   "execution_count": 27,
   "id": "cde259ad",
   "metadata": {},
   "outputs": [
    {
     "name": "stderr",
     "output_type": "stream",
     "text": [
      "/var/folders/kq/sgj1fw1j2c9_ttnhs0l53fk40000gn/T/ipykernel_56680/907909048.py:2: DtypeWarning: Columns (15) have mixed types. Specify dtype option on import or set low_memory=False.\n",
      "  feb28_1 = pd.read_csv('archive/February/UkraineCombinedTweetsDeduped_FEB28_part1.csv.gzip', compression='gzip')\n"
     ]
    }
   ],
   "source": [
    "feb27 = pd.read_csv('archive/February/UkraineCombinedTweetsDeduped_FEB27.csv.gzip', compression='gzip')\n",
    "feb28_1 = pd.read_csv('archive/February/UkraineCombinedTweetsDeduped_FEB28_part1.csv.gzip', compression='gzip')\n",
    "feb28_2 = pd.read_csv('archive/February/UkraineCombinedTweetsDeduped_FEB28_part2.csv.gzip', compression='gzip')"
   ]
  },
  {
   "cell_type": "code",
   "execution_count": 28,
   "id": "8e8ea88f",
   "metadata": {},
   "outputs": [],
   "source": [
    "feb = pd.concat([feb27,feb28_1,feb28_2])"
   ]
  },
  {
   "cell_type": "code",
   "execution_count": 29,
   "id": "c3ae59f3",
   "metadata": {},
   "outputs": [
    {
     "name": "stdout",
     "output_type": "stream",
     "text": [
      "<class 'pandas.core.frame.DataFrame'>\n",
      "Int64Index: 735189 entries, 0 to 140383\n",
      "Data columns (total 18 columns):\n",
      " #   Column          Non-Null Count   Dtype \n",
      "---  ------          --------------   ----- \n",
      " 0   Unnamed: 0      735189 non-null  int64 \n",
      " 1   userid          735189 non-null  int64 \n",
      " 2   username        735189 non-null  object\n",
      " 3   acctdesc        575146 non-null  object\n",
      " 4   location        429725 non-null  object\n",
      " 5   following       735189 non-null  int64 \n",
      " 6   followers       735189 non-null  int64 \n",
      " 7   totaltweets     735189 non-null  int64 \n",
      " 8   usercreatedts   735189 non-null  object\n",
      " 9   tweetid         735189 non-null  int64 \n",
      " 10  tweetcreatedts  735189 non-null  object\n",
      " 11  retweetcount    735189 non-null  int64 \n",
      " 12  text            735189 non-null  object\n",
      " 13  hashtags        735189 non-null  object\n",
      " 14  language        735189 non-null  object\n",
      " 15  coordinates     68 non-null      object\n",
      " 16  favorite_count  735189 non-null  int64 \n",
      " 17  extractedts     735189 non-null  object\n",
      "dtypes: int64(8), object(10)\n",
      "memory usage: 106.6+ MB\n"
     ]
    }
   ],
   "source": [
    "feb.info()"
   ]
  },
  {
   "cell_type": "code",
   "execution_count": 31,
   "id": "7a07037e",
   "metadata": {},
   "outputs": [],
   "source": [
    "feb = feb[(feb.location.notna()) & (feb.language == 'en')]"
   ]
  },
  {
   "cell_type": "code",
   "execution_count": 33,
   "id": "07ef3615",
   "metadata": {},
   "outputs": [
    {
     "name": "stdout",
     "output_type": "stream",
     "text": [
      "<class 'pandas.core.frame.DataFrame'>\n",
      "Int64Index: 281000 entries, 0 to 140382\n",
      "Data columns (total 18 columns):\n",
      " #   Column          Non-Null Count   Dtype \n",
      "---  ------          --------------   ----- \n",
      " 0   Unnamed: 0      281000 non-null  int64 \n",
      " 1   userid          281000 non-null  int64 \n",
      " 2   username        281000 non-null  object\n",
      " 3   acctdesc        253427 non-null  object\n",
      " 4   location        281000 non-null  object\n",
      " 5   following       281000 non-null  int64 \n",
      " 6   followers       281000 non-null  int64 \n",
      " 7   totaltweets     281000 non-null  int64 \n",
      " 8   usercreatedts   281000 non-null  object\n",
      " 9   tweetid         281000 non-null  int64 \n",
      " 10  tweetcreatedts  281000 non-null  object\n",
      " 11  retweetcount    281000 non-null  int64 \n",
      " 12  text            281000 non-null  object\n",
      " 13  hashtags        281000 non-null  object\n",
      " 14  language        281000 non-null  object\n",
      " 15  coordinates     26 non-null      object\n",
      " 16  favorite_count  281000 non-null  int64 \n",
      " 17  extractedts     281000 non-null  object\n",
      "dtypes: int64(8), object(10)\n",
      "memory usage: 40.7+ MB\n"
     ]
    }
   ],
   "source": [
    "feb.info()"
   ]
  },
  {
   "cell_type": "markdown",
   "id": "4cfa8676",
   "metadata": {},
   "source": [
    "# March Dates\n",
    "\n",
    "March 19\n",
    "March 21\n",
    "March 31"
   ]
  },
  {
   "cell_type": "code",
   "execution_count": 34,
   "id": "c17e129c",
   "metadata": {},
   "outputs": [],
   "source": [
    "mar19 = pd.read_csv('archive/March/UkraineCombinedTweetsDeduped_MAR19.csv.gzip', compression='gzip')\n",
    "mar21 = pd.read_csv('archive/March/UkraineCombinedTweetsDeduped_MAR21.csv.gzip', compression='gzip')\n",
    "mar31 = pd.read_csv('archive/March/UkraineCombinedTweetsDeduped_MAR31.csv.gzip', compression='gzip')"
   ]
  },
  {
   "cell_type": "code",
   "execution_count": 35,
   "id": "74731c28",
   "metadata": {},
   "outputs": [],
   "source": [
    "mar19 = mar19[(mar19.location.notna()) & (mar19.language == 'en')]\n",
    "mar21 = mar21[(mar21.location.notna()) & (mar21.language == 'en')]\n",
    "mar31 = mar31[(mar31.location.notna()) & (mar31.language == 'en')]"
   ]
  },
  {
   "cell_type": "code",
   "execution_count": 36,
   "id": "fbd8f670",
   "metadata": {},
   "outputs": [
    {
     "name": "stdout",
     "output_type": "stream",
     "text": [
      "<class 'pandas.core.frame.DataFrame'>\n",
      "Int64Index: 181836 entries, 1 to 442665\n",
      "Data columns (total 18 columns):\n",
      " #   Column          Non-Null Count   Dtype \n",
      "---  ------          --------------   ----- \n",
      " 0   Unnamed: 0      181836 non-null  int64 \n",
      " 1   userid          181836 non-null  int64 \n",
      " 2   username        181836 non-null  object\n",
      " 3   acctdesc        163183 non-null  object\n",
      " 4   location        181836 non-null  object\n",
      " 5   following       181836 non-null  int64 \n",
      " 6   followers       181836 non-null  int64 \n",
      " 7   totaltweets     181836 non-null  int64 \n",
      " 8   usercreatedts   181836 non-null  object\n",
      " 9   tweetid         181836 non-null  int64 \n",
      " 10  tweetcreatedts  181836 non-null  object\n",
      " 11  retweetcount    181836 non-null  int64 \n",
      " 12  text            181836 non-null  object\n",
      " 13  hashtags        181836 non-null  object\n",
      " 14  language        181836 non-null  object\n",
      " 15  coordinates     29 non-null      object\n",
      " 16  favorite_count  181836 non-null  int64 \n",
      " 17  extractedts     181836 non-null  object\n",
      "dtypes: int64(8), object(10)\n",
      "memory usage: 26.4+ MB\n"
     ]
    }
   ],
   "source": [
    "mar19.info()"
   ]
  },
  {
   "cell_type": "code",
   "execution_count": 37,
   "id": "a0ec11dd",
   "metadata": {},
   "outputs": [
    {
     "name": "stdout",
     "output_type": "stream",
     "text": [
      "<class 'pandas.core.frame.DataFrame'>\n",
      "Int64Index: 202118 entries, 0 to 480518\n",
      "Data columns (total 18 columns):\n",
      " #   Column          Non-Null Count   Dtype \n",
      "---  ------          --------------   ----- \n",
      " 0   Unnamed: 0      202118 non-null  int64 \n",
      " 1   userid          202118 non-null  int64 \n",
      " 2   username        202118 non-null  object\n",
      " 3   acctdesc        181645 non-null  object\n",
      " 4   location        202118 non-null  object\n",
      " 5   following       202118 non-null  int64 \n",
      " 6   followers       202118 non-null  int64 \n",
      " 7   totaltweets     202118 non-null  int64 \n",
      " 8   usercreatedts   202118 non-null  object\n",
      " 9   tweetid         202118 non-null  int64 \n",
      " 10  tweetcreatedts  202118 non-null  object\n",
      " 11  retweetcount    202118 non-null  int64 \n",
      " 12  text            202118 non-null  object\n",
      " 13  hashtags        202118 non-null  object\n",
      " 14  language        202118 non-null  object\n",
      " 15  coordinates     21 non-null      object\n",
      " 16  favorite_count  202118 non-null  int64 \n",
      " 17  extractedts     202118 non-null  object\n",
      "dtypes: int64(8), object(10)\n",
      "memory usage: 29.3+ MB\n"
     ]
    }
   ],
   "source": [
    "mar21.info()"
   ]
  },
  {
   "cell_type": "code",
   "execution_count": 38,
   "id": "a32e6ac1",
   "metadata": {},
   "outputs": [
    {
     "name": "stdout",
     "output_type": "stream",
     "text": [
      "<class 'pandas.core.frame.DataFrame'>\n",
      "Int64Index: 138519 entries, 0 to 344511\n",
      "Data columns (total 18 columns):\n",
      " #   Column          Non-Null Count   Dtype \n",
      "---  ------          --------------   ----- \n",
      " 0   Unnamed: 0      138519 non-null  int64 \n",
      " 1   userid          138519 non-null  int64 \n",
      " 2   username        138519 non-null  object\n",
      " 3   acctdesc        125883 non-null  object\n",
      " 4   location        138519 non-null  object\n",
      " 5   following       138519 non-null  int64 \n",
      " 6   followers       138519 non-null  int64 \n",
      " 7   totaltweets     138519 non-null  int64 \n",
      " 8   usercreatedts   138519 non-null  object\n",
      " 9   tweetid         138519 non-null  int64 \n",
      " 10  tweetcreatedts  138519 non-null  object\n",
      " 11  retweetcount    138519 non-null  int64 \n",
      " 12  text            138519 non-null  object\n",
      " 13  hashtags        138519 non-null  object\n",
      " 14  language        138519 non-null  object\n",
      " 15  coordinates     18 non-null      object\n",
      " 16  favorite_count  138519 non-null  int64 \n",
      " 17  extractedts     138519 non-null  object\n",
      "dtypes: int64(8), object(10)\n",
      "memory usage: 20.1+ MB\n"
     ]
    }
   ],
   "source": [
    "mar31.info()"
   ]
  },
  {
   "cell_type": "code",
   "execution_count": null,
   "id": "f17355b6",
   "metadata": {},
   "outputs": [],
   "source": []
  }
 ],
 "metadata": {
  "kernelspec": {
   "display_name": "Python 3 (ipykernel)",
   "language": "python",
   "name": "python3"
  },
  "language_info": {
   "codemirror_mode": {
    "name": "ipython",
    "version": 3
   },
   "file_extension": ".py",
   "mimetype": "text/x-python",
   "name": "python",
   "nbconvert_exporter": "python",
   "pygments_lexer": "ipython3",
   "version": "3.9.10"
  }
 },
 "nbformat": 4,
 "nbformat_minor": 5
}
